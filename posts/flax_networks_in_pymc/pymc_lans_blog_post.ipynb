{
 "cells": [
  {
   "cell_type": "markdown",
   "id": "32d4850a-5bb0-4784-9a0f-c017cecc2189",
   "metadata": {},
   "source": [
    "# Custom Distributions based on Flax Neural Networks in PyMC"
   ]
  },
  {
   "cell_type": "markdown",
   "id": "05e42e4c-4be0-4b21-9371-ec09e9d6b403",
   "metadata": {},
   "source": [
    "Leaning on an applied data-analysis problem in the cognitive modeling space, this post develops the tools to use neural networks trained with the Flax package (a neural network library based on JAX) as approximate likelihoods in likelihood-free inference scenarios. We will spend some time setting up the data analysis problem first, including the modeling framework used and computational bottlenecks that may arise (however if you don't care about the particulars, feel free to skip this part). Then, step by step, we will develop the tools necessary to go from a simple data simulator without access to a likelihood function to Bayesian Inference with PyMC via a custom distribution. \n",
    "\n",
    "We will try to keep the code as general as possible, to facilitate other use cases with minimal hassle."
   ]
  },
  {
   "cell_type": "markdown",
   "id": "4c351ec2-8b02-4f2c-b731-df169e7853f7",
   "metadata": {},
   "source": [
    "## Table of Contents\n",
    "* [Setting the Stage](#setting_the_stage)\n",
    "    * [The Data Analysis Problem](#data_analysis_problem)\n",
    "        * [What kind of Data?](#kind_of_data)\n",
    "        * [The model(s)](#the_models)\n",
    "        * [Motivating likelihood free inference](#motivating_lfi)\n",
    "* [From model simulation to PyMC model](#towards_pymc)\n",
    "    * [Simulating Data](#data_simulation)\n",
    "    * [Turning it into Training Data](#training_data)\n",
    "    * [Building and Training the Network](#build_and_train)\n",
    "    * [Connecting to PyMC](#pymc)\n",
    "        * [Building a custom distribution](#custom_distribution)\n",
    "        * [Plug the custom distribution into a PyMC model](#pymc_model)\n",
    "        * [Inference example](#inference_example)"
   ]
  },
  {
   "cell_type": "markdown",
   "id": "ded79c97-cced-4c53-af04-512b1d97721f",
   "metadata": {},
   "source": [
    "## Setting the Stage <a class=\"anchor\" id=\"setting_the_stage\"></a>\n",
    "\n",
    "To motivate the modeling effort expounded upon below, let's start by building the case for a particular class of models, beginning with an (somewhat stylized) original data analysis problem.\n",
    "\n",
    "Consider a dataset from the [NeuroRacer](https://www.nature.com/articles/nature12486) experiment, illustrated below with an adapted figure from the original paper.\n",
    "\n",
    "![NeuroRacer](neuroracer_exp.png)\n",
    "\n",
    "\n",
    "The *player/subject* in this experiment is tasked with steering a racing car along a curvy racetrack, while reacting appropriately to appearing traffic signs under time pressure. Traffic signs are either of the **target** or **no target** type, the players' reaction appropriately being a **button press** or **no button press** respectively. \n",
    "\n",
    "In the lingo of cognitive scientists, we may consider this game a Go / NoGo type task (press or withhold depending on traffic sign), under extra cognitive load (steering the car across the racetrack). \n",
    "\n",
    "This leaves us with **four types of responses** to analyse (see the figure below):\n",
    "1. Correct button press (Correct Go)\n",
    "2. Correct withhold (Correct NoGo)\n",
    "3. False button press (False Go)\n",
    "4. False withhold (False NoGo)\n",
    "\n",
    "\n",
    "![Responsetypes](four_response_types.png)"
   ]
  },
  {
   "cell_type": "markdown",
   "id": "8ed3cbc1-e837-4430-92fa-c7ea09f8526f",
   "metadata": {},
   "source": [
    "### What kind of data <a class=\"anchor\" id=\"kind_of_data\"></a>\n",
    "\n",
    "Collecting *reaction times* (rt) and *choices* (responses) for each of the trials, our dataset will eventually look as follows."
   ]
  },
  {
   "cell_type": "code",
   "execution_count": 1,
   "id": "23040c67-3d75-49f5-a4aa-b06abcf4fd6c",
   "metadata": {
    "tags": []
   },
   "outputs": [
    {
     "data": {
      "text/html": [
       "<div>\n",
       "<style scoped>\n",
       "    .dataframe tbody tr th:only-of-type {\n",
       "        vertical-align: middle;\n",
       "    }\n",
       "\n",
       "    .dataframe tbody tr th {\n",
       "        vertical-align: top;\n",
       "    }\n",
       "\n",
       "    .dataframe thead th {\n",
       "        text-align: right;\n",
       "    }\n",
       "</style>\n",
       "<table border=\"1\" class=\"dataframe\">\n",
       "  <thead>\n",
       "    <tr style=\"text-align: right;\">\n",
       "      <th></th>\n",
       "      <th>rt</th>\n",
       "      <th>response</th>\n",
       "      <th>trial_type</th>\n",
       "    </tr>\n",
       "  </thead>\n",
       "  <tbody>\n",
       "    <tr>\n",
       "      <th>0</th>\n",
       "      <td>0.969710</td>\n",
       "      <td>go</td>\n",
       "      <td>target</td>\n",
       "    </tr>\n",
       "    <tr>\n",
       "      <th>1</th>\n",
       "      <td>0.400123</td>\n",
       "      <td>go</td>\n",
       "      <td>target</td>\n",
       "    </tr>\n",
       "    <tr>\n",
       "      <th>2</th>\n",
       "      <td>0.730822</td>\n",
       "      <td>go</td>\n",
       "      <td>target</td>\n",
       "    </tr>\n",
       "    <tr>\n",
       "      <th>3</th>\n",
       "      <td>0.431710</td>\n",
       "      <td>go</td>\n",
       "      <td>target</td>\n",
       "    </tr>\n",
       "    <tr>\n",
       "      <th>4</th>\n",
       "      <td>0.181799</td>\n",
       "      <td>go</td>\n",
       "      <td>target</td>\n",
       "    </tr>\n",
       "    <tr>\n",
       "      <th>...</th>\n",
       "      <td>...</td>\n",
       "      <td>...</td>\n",
       "      <td>...</td>\n",
       "    </tr>\n",
       "    <tr>\n",
       "      <th>95</th>\n",
       "      <td>0.190541</td>\n",
       "      <td>nogo</td>\n",
       "      <td>notarget</td>\n",
       "    </tr>\n",
       "    <tr>\n",
       "      <th>96</th>\n",
       "      <td>0.465238</td>\n",
       "      <td>nogo</td>\n",
       "      <td>notarget</td>\n",
       "    </tr>\n",
       "    <tr>\n",
       "      <th>97</th>\n",
       "      <td>0.761691</td>\n",
       "      <td>nogo</td>\n",
       "      <td>notarget</td>\n",
       "    </tr>\n",
       "    <tr>\n",
       "      <th>98</th>\n",
       "      <td>0.678430</td>\n",
       "      <td>nogo</td>\n",
       "      <td>notarget</td>\n",
       "    </tr>\n",
       "    <tr>\n",
       "      <th>99</th>\n",
       "      <td>0.933301</td>\n",
       "      <td>nogo</td>\n",
       "      <td>notarget</td>\n",
       "    </tr>\n",
       "  </tbody>\n",
       "</table>\n",
       "<p>100 rows × 3 columns</p>\n",
       "</div>"
      ],
      "text/plain": [
       "          rt response trial_type\n",
       "0   0.969710       go     target\n",
       "1   0.400123       go     target\n",
       "2   0.730822       go     target\n",
       "3   0.431710       go     target\n",
       "4   0.181799       go     target\n",
       "..       ...      ...        ...\n",
       "95  0.190541     nogo   notarget\n",
       "96  0.465238     nogo   notarget\n",
       "97  0.761691     nogo   notarget\n",
       "98  0.678430     nogo   notarget\n",
       "99  0.933301     nogo   notarget\n",
       "\n",
       "[100 rows x 3 columns]"
      ]
     },
     "execution_count": 1,
     "metadata": {},
     "output_type": "execute_result"
    }
   ],
   "source": [
    "import numpy as np\n",
    "import pandas as pd\n",
    "\n",
    "# Generate example data\n",
    "data = pd.DataFrame(np.random.uniform(size = (100,1)), columns = ['rt'])\n",
    "data['response'] = 'go'\n",
    "data['response'].values[int(data.shape[0] / 2):] = 'nogo'\n",
    "data['trial_type'] = 'target'\n",
    "data['trial_type'].values[int(data.shape[0] / 2):] = 'notarget'\n",
    "\n",
    "data"
   ]
  },
  {
   "cell_type": "markdown",
   "id": "631762a4-d112-4d09-b820-a634bdafe743",
   "metadata": {},
   "source": [
    "### The model(s) <a class=\"anchor\" id=\"the_models\"></a>"
   ]
  },
  {
   "cell_type": "markdown",
   "id": "e6139f58-8159-4656-ad5e-e30df6274e20",
   "metadata": {},
   "source": [
    "Cognitive scientists have powerful framework for the joint analysis of **reaction time** and **choice** data: Sequential Sampling Models (SSMs). \n",
    "\n",
    "The canonical model in this framework is the [Drift Diffusion Model](https://www.ncbi.nlm.nih.gov/pmc/articles/PMC2474742/) (or Diffusion Decision Model). We will take this model as a starting point to explain how it applies to the analysis of [NeuroRacer](https://www.nature.com/articles/nature12486) data. \n",
    "\n",
    "The basic idea behind the [Drift Diffusion Model](https://www.ncbi.nlm.nih.gov/pmc/articles/PMC2474742/) is the following. \n",
    "We represent the decision process between two options as a Gaussian random walk of a so-called *evidence state*. This random walk initiates from a given starting point (parameter $z$), and evolves, with perturbed by Gaussian noise, according to a deterministic drift (parameter $v$), until it reaches one of two boundaries (the parameter $a$ specifies the distance between these boundaries).\n",
    "\n",
    "*Which bound* is reached, and the *time of crossing*, jointly determine the reaction time and choice. Hence, this model specifies a *stochastic data generating process* and we can define a (potentially hard to derive, but more on this later) likelihood function for this.\n",
    "\n",
    "We don't need to bother with analytical details of this likelihood function, since we will adopt an approximation approach in this tutorial which bypasses analytics by design. Let's first look at an illustration of the model and identify the quantities relevant for our example.\n",
    "\n",
    "\n",
    "![DDM Likelihood](ddm_example_with_likelihoods.png)\n",
    "\n",
    "\n",
    "The two quantities we will make explicit in the analyses are the following are,\n",
    "\n",
    "1. $f_{Go}(t|v,a,z,ndt)$, the likelihood of observing a **Go** choice at time $t$\n",
    "2. $p(choice = NoGo)$, the likelihood of \"observing\" a withheld button press (defined as the integral of $f_{NoGo}(t|v,a,z,ndt)$ over $t$\n",
    "\n",
    "We will focus on a simple analysis case, in which we observe hypothetical data from a single player, who plays the game for $1000$, $500$ of which are **Go** trials (the traffic sign warrants a button press) and $500$ of which are **NoGo** trials (the traffic sign warrants withholding a button press.\n",
    "\n",
    "Moreover, we make a simple modeling assumption. While we estimate only a single $v_{Go}$ parameter, we assume that for a **NoGo** trial the sign of the evidence increment changes (we accumulate evidence in favor of withholding instead of accumulating evidence in favor of a button press). Hence, $v_{NoGo} = - v_{Go}$. "
   ]
  },
  {
   "cell_type": "markdown",
   "id": "0b003e48-a262-4f34-b959-b436c82d02a5",
   "metadata": {},
   "source": [
    "### Motivating Simulation Based Inference <a class=\"anchor\" id=\"motivating_lfi\"></a>\n"
   ]
  },
  {
   "cell_type": "markdown",
   "id": "560a57db-41d7-4ac5-ae63-28b97a8cd866",
   "metadata": {},
   "source": [
    "The Diffusion Decision Model does in fact have an (cumbersome) [analytical likelihood](https://philpapers.org/rec/FELAIT-4), with specialized [algorithms](https://psycnet.apa.org/record/2009-11068-003) for fast evaluation. There are however many interesting variants for which fast computations are hampered by a lack thereof (see for example [here](https://pyddm.readthedocs.io/en/stable/) and [here](https://elifesciences.org/articles/65074)).\n",
    "\n",
    "On the other hand simulators for such variants tend to remain easy to code up (often a few lines in python do the job). \n",
    "A simulator but no likelihood? Welcome to the world of [**simulation based inference**](https://www.pnas.org/doi/10.1073/pnas.1912789117) (SBI).\n",
    "\n",
    "Surveying the field of SBI is beyond the scope of this blog post (the paper above is a good start for those interested), but let it be said that SBI is the overarching paradigm from which we pick a specific [method](https://elifesciences.org/articles/65074) to construct our approach below.\n",
    "\n",
    "The idea is the following. We start with a simulator for the DDM from which, given a set of parameters ($v$, $a$, $z$, $ndt$) we can construct empirical likelihood  functions for both $f_{Go}(t|v,a,z,ndt)$ and $p(choice=Nogo|v,a,z,ndt)$. For $f_{Go}(t|v,a,z,ndt)$ we construct smoothed histograms (or [Kernel Density Estimates](https://en.wikipedia.org/wiki/Kernel_density_estimation)), while for $p(choice=Nogo|v,a,z,ndt)$ we simply collect the respective choice probability from simulation runs. \n",
    "\n",
    "From these building blocks, we will construct training data to train two [Multilayer Perceptrons](https://en.wikipedia.org/wiki/Multilayer_perceptron) (MLPs, read: small Neural Networks), one for each of the two parts of the overall likelihood.\n",
    "\n",
    "These MLPs are going to act as our likelihood functions. We will call the network which represents $f_{Go}(t|v,a,z,ndt)$ a LAN, for Likelihood Approximation Network. The network for $p(choice=NoGo|v,a,z,ndt)$ will be called a CPN, for Choice Probability Network. As we will see later, can then evaluate our data-likelihood via forward passes through the LAN and CPN.\n",
    "\n",
    "We will then proceed by wrapping these trained networks into a custom PyMC distribution and finally get samples from our posterior of interest $p(v,a,z,ndt|x)$ via the [Blackjax](https://github.com/blackjax-devs/blackjax) NUTS sampler, completing our walkthrough.\n",
    "\n",
    "With all these steps ahead, let's get going!"
   ]
  },
  {
   "cell_type": "markdown",
   "id": "906f5c57-1912-4b92-9dd0-bc03058d3c76",
   "metadata": {},
   "source": [
    "## From model simulation to PyMC model  <a class=\"anchor\" id=\"towards_pymc\"></a>"
   ]
  },
  {
   "cell_type": "markdown",
   "id": "8297d3e6-1284-43f7-898c-9995f8752869",
   "metadata": {
    "tags": []
   },
   "source": [
    "### Simulating Data  <a class=\"anchor\" id=\"data_simulation\"></a>"
   ]
  },
  {
   "cell_type": "markdown",
   "id": "92c53685-d8b2-4074-ae9e-8f707b905a3a",
   "metadata": {},
   "source": [
    "In favor is a digestible reading experience, we will use a convenience package to simulate data from the DDM model.\n",
    "This package not only allows us to simulate trajectories, but also includes utilities to directly produce data in a format suitable for downstream neural network training (which is our target here). The mechanics behind training data generation are described in [this paper](https://elifesciences.org/articles/65074).\n",
    "\n",
    "For some intuition, let's start with simulating and plotting a simple collection of $1000$ DDM trajectories, setting the parameters $\\{v,a,z,ndt\\}$ as $\\{1.0 , 1.5, 0.5, 0.5\\}$."
   ]
  },
  {
   "cell_type": "code",
   "execution_count": 2,
   "id": "a837e3f9-b581-4111-bebd-7b220f9629d1",
   "metadata": {
    "tags": []
   },
   "outputs": [
    {
     "data": {
      "text/plain": [
       "dict_keys(['rts', 'choices', 'metadata'])"
      ]
     },
     "execution_count": 2,
     "metadata": {},
     "output_type": "execute_result"
    }
   ],
   "source": [
    "from ssms.basic_simulators import simulator\n",
    "\n",
    "n_trajectories = 1000\n",
    "parameter_vector = np.array([1.0, 1.5, 0.5, 0.5])\n",
    "\n",
    "simulation_data = simulator(model = 'ddm',\n",
    "                            theta = parameter_vector,\n",
    "                            n_samples = n_trajectories)\n",
    "\n",
    "simulation_data.keys()"
   ]
  },
  {
   "cell_type": "markdown",
   "id": "a593c17e-0177-419a-8df3-b435aacbdcee",
   "metadata": {
    "tags": []
   },
   "source": [
    "The simulator returns a `dictionary` with three keys.\n",
    "\n",
    "1. `rts`, the reaction times for each choice under 2.\n",
    "2. `choices`, here coded as $-1$ for lower boundary crossings and $1$ for upper boundary crossings.\n",
    "3. `metadata`, extra information about the simulator settings\n",
    "\n",
    "Let's use this to plot the reaction time distribution (negative reals refer to $-1$ choices) and choice probabilities.\n",
    "I will plot this for a few parameter settings to give some intuition about how the model behaves in response. Specifically we will vary the $v$ parameter, holding all other parameters constant the values reported above."
   ]
  },
  {
   "cell_type": "code",
   "execution_count": 3,
   "id": "f945ee38-6cb5-4b2c-8457-b629c56d8317",
   "metadata": {
    "tags": []
   },
   "outputs": [
    {
     "data": {
      "image/png": "[encoded data removed]",
      "text/plain": [
       "<Figure size 600x800 with 6 Axes>"
      ]
     },
     "metadata": {},
     "output_type": "display_data"
    }
   ],
   "source": [
    "from matplotlib import pyplot as plt\n",
    "parameter_matrix = np.zeros((3, 4))\n",
    "\n",
    "# vary the first parameter across rows (the 'v' parameter in our case')\n",
    "parameter_matrix[:, 0] = np.linspace(-0.5, 0.5, 3)\n",
    "\n",
    "# set the rest to the values used above\n",
    "for i in range(1, 4, 1):\n",
    "    parameter_matrix[:, i] = parameter_vector[i]\n",
    "    \n",
    "# Make Figure\n",
    "fig, axs = plt.subplots(3,2, figsize = (6, 8))\n",
    "fig.suptitle('DDM Simulations: vary v')\n",
    "for i in range(3):\n",
    "    simulation_data_tmp = simulator(model = 'ddm',\n",
    "                                theta = parameter_matrix[i, :],\n",
    "                                n_samples = n_trajectories)\n",
    "    for j in range(2):\n",
    "        if j == 0:\n",
    "            # Reaction Times + Choices\n",
    "            axs[i, j].hist(np.squeeze(simulation_data_tmp['rts']) * np.squeeze(simulation_data_tmp['choices']),\n",
    "                       histtype = 'step',\n",
    "                       color = 'black',\n",
    "                       bins = 40,\n",
    "                       )\n",
    "            axs[i, j].set_title('v = ' + str(round(parameter_matrix[i, 0], 2)))\n",
    "            axs[i, j].set_xlim(-10, 10)\n",
    "            axs[i, j].set_xlabel('Reaction Times')\n",
    "            axs[i, j].set_ylabel('Freq')\n",
    "            axs[i, j]\n",
    "        else: \n",
    "            # Choice probabilities\n",
    "            p_up = np.sum(simulation_data_tmp['choices'] == 1.) / n_trajectories\n",
    "            choice_ps = [1 - p_up, p_up]\n",
    "            axs[i, j].bar(['choice = -1', 'choice = 1'], choice_ps, fill = None)\n",
    "            axs[i, j].set_ylabel('Probability')\n",
    "            axs[i, j].set_ylim(0, 1)\n",
    "fig.tight_layout()\n",
    "plt.show()"
   ]
  },
  {
   "cell_type": "markdown",
   "id": "6e5aba5f-ad86-4e29-9663-691eaae01503",
   "metadata": {},
   "source": [
    "### Turning it into Training Data  <a class=\"anchor\" id=\"training_data\"></a>"
   ]
  },
  {
   "cell_type": "markdown",
   "id": "f89e62a2-7e99-4f06-9eb8-299e6db5affe",
   "metadata": {},
   "source": [
    "We will now use a couple of convenience function from the [`ssms`](https://github.com/AlexanderFengler/ssms) package, to generate training data for our Neural Networks.\n",
    "This will proceed in *two* steps. We first define two config dictionaries to specify properties of the simulation runs that will serve as the basis for our training data set. \n",
    "\n",
    "1. The `generator_config` which specifies how to construct training data on top of basic simulations runs\n",
    "2. The `model_config` which specifies the properties of the core simulator\n",
    "\n",
    "Second, we will actually run the necessary simulations. \n",
    "\n",
    "Let's make the config dictionaries."
   ]
  },
  {
   "cell_type": "code",
   "execution_count": 4,
   "id": "0067f448-b138-4bf2-addf-cf149bf9e08a",
   "metadata": {
    "tags": []
   },
   "outputs": [],
   "source": [
    "# MAKE CONFIGS\n",
    "from ssms.config import data_generator_config\n",
    "from ssms.config import model_config\n",
    "from copy import deepcopy\n",
    "\n",
    "# Generator Config\n",
    "\n",
    "# (We start from a supplied example in the ssms package)\n",
    "ddm_generator_config = deepcopy(data_generator_config['lan']) \n",
    "\n",
    "# Specify generative model (one from the list of included models in the ssms package)\n",
    "ddm_generator_config['dgp_list'] = 'ddm'\n",
    "\n",
    "# Specify number of parameter sets to simulate\n",
    "ddm_generator_config['n_parameter_sets'] = 1000\n",
    "\n",
    "# Specify how many samples a simulation run should entail\n",
    "ddm_generator_config['n_samples'] = 1000\n",
    "\n",
    "# Specify how many training examples to extract from \n",
    "# a single parameter vector\n",
    "ddm_generator_config['n_training_samples_by_parameter_set'] = 500\n",
    "\n",
    "# Specify folder in which to save generated data\n",
    "ddm_generator_config['output_folder'] = 'data/training_data/ddm'\n",
    "\n",
    "# Model Config\n",
    "ddm_model_config = model_config['ddm']"
   ]
  },
  {
   "cell_type": "markdown",
   "id": "5cfa28fa-86c5-418d-a9b3-c9f9def78874",
   "metadata": {
    "tags": []
   },
   "source": [
    "We are now in the position to actually run the simulations.  \n",
    "\n",
    "If you run this by yourself, \n",
    "\n",
    "1. Be aware that the next cell may run for a while (between a few minutes and an hour)\n",
    "2. Make sure the `output_folder` specified above exists."
   ]
  },
  {
   "cell_type": "code",
   "execution_count": 5,
   "id": "1d487ffe-dbc4-46d2-9c75-fe7659fe80d0",
   "metadata": {
    "tags": []
   },
   "outputs": [
    {
     "name": "stdout",
     "output_type": "stream",
     "text": [
      "n_cpus used:  32\n",
      "checking:  data/training_data/ddm\n",
      "Dataset:  1  of  10\n",
      "simulation round: 1  of 10\n",
      "simulation round: 2  of 10\n",
      "simulation round: 3  of 10\n",
      "simulation round: 4  of 10\n",
      "simulation round: 5  of 10\n",
      "simulation round: 6  of 10\n",
      "simulation round: 7  of 10\n",
      "simulation round: 8  of 10\n",
      "simulation round: 9  of 10\n",
      "simulation round: 10  of 10\n",
      "Writing to file:  data/training_data/ddm/training_data_78f469aead7911eda25ca0423f39b436.pickle\n",
      "Dataset:  2  of  10\n",
      "simulation round: 1  of 10\n",
      "simulation round: 2  of 10\n",
      "simulation round: 3  of 10\n",
      "simulation round: 4  of 10\n",
      "simulation round: 5  of 10\n",
      "simulation round: 6  of 10\n",
      "simulation round: 7  of 10\n",
      "simulation round: 8  of 10\n",
      "simulation round: 9  of 10\n",
      "simulation round: 10  of 10\n",
      "Writing to file:  data/training_data/ddm/training_data_803fe314ad7911eda25ca0423f39b436.pickle\n",
      "Dataset:  3  of  10\n",
      "simulation round: 1  of 10\n",
      "simulation round: 2  of 10\n",
      "simulation round: 3  of 10\n",
      "simulation round: 4  of 10\n",
      "simulation round: 5  of 10\n",
      "simulation round: 6  of 10\n",
      "simulation round: 7  of 10\n",
      "simulation round: 8  of 10\n",
      "simulation round: 9  of 10\n",
      "simulation round: 10  of 10\n",
      "Writing to file:  data/training_data/ddm/training_data_879f6a76ad7911eda25ca0423f39b436.pickle\n",
      "Dataset:  4  of  10\n",
      "simulation round: 1  of 10\n",
      "simulation round: 2  of 10\n",
      "simulation round: 3  of 10\n",
      "simulation round: 4  of 10\n",
      "simulation round: 5  of 10\n",
      "simulation round: 6  of 10\n",
      "simulation round: 7  of 10\n",
      "simulation round: 8  of 10\n",
      "simulation round: 9  of 10\n",
      "simulation round: 10  of 10\n",
      "Writing to file:  data/training_data/ddm/training_data_8eba51f4ad7911eda25ca0423f39b436.pickle\n",
      "Dataset:  5  of  10\n",
      "simulation round: 1  of 10\n",
      "simulation round: 2  of 10\n",
      "simulation round: 3  of 10\n",
      "simulation round: 4  of 10\n",
      "simulation round: 5  of 10\n",
      "simulation round: 6  of 10\n",
      "simulation round: 7  of 10\n",
      "simulation round: 8  of 10\n",
      "simulation round: 9  of 10\n",
      "simulation round: 10  of 10\n",
      "Writing to file:  data/training_data/ddm/training_data_95d23e20ad7911eda25ca0423f39b436.pickle\n",
      "Dataset:  6  of  10\n",
      "simulation round: 1  of 10\n",
      "simulation round: 2  of 10\n",
      "simulation round: 3  of 10\n",
      "simulation round: 4  of 10\n",
      "simulation round: 5  of 10\n",
      "simulation round: 6  of 10\n",
      "simulation round: 7  of 10\n",
      "simulation round: 8  of 10\n",
      "simulation round: 9  of 10\n",
      "simulation round: 10  of 10\n",
      "Writing to file:  data/training_data/ddm/training_data_9cd24972ad7911eda25ca0423f39b436.pickle\n",
      "Dataset:  7  of  10\n",
      "simulation round: 1  of 10\n",
      "simulation round: 2  of 10\n",
      "simulation round: 3  of 10\n",
      "simulation round: 4  of 10\n",
      "simulation round: 5  of 10\n",
      "simulation round: 6  of 10\n",
      "simulation round: 7  of 10\n",
      "simulation round: 8  of 10\n",
      "simulation round: 9  of 10\n",
      "simulation round: 10  of 10\n",
      "Writing to file:  data/training_data/ddm/training_data_a38a878ead7911eda25ca0423f39b436.pickle\n",
      "Dataset:  8  of  10\n",
      "simulation round: 1  of 10\n",
      "simulation round: 2  of 10\n",
      "simulation round: 3  of 10\n",
      "simulation round: 4  of 10\n",
      "simulation round: 5  of 10\n",
      "simulation round: 6  of 10\n",
      "simulation round: 7  of 10\n",
      "simulation round: 8  of 10\n",
      "simulation round: 9  of 10\n",
      "simulation round: 10  of 10\n",
      "Writing to file:  data/training_data/ddm/training_data_aad10a54ad7911eda25ca0423f39b436.pickle\n",
      "Dataset:  9  of  10\n",
      "simulation round: 1  of 10\n",
      "simulation round: 2  of 10\n",
      "simulation round: 3  of 10\n",
      "simulation round: 4  of 10\n",
      "simulation round: 5  of 10\n",
      "simulation round: 6  of 10\n",
      "simulation round: 7  of 10\n",
      "simulation round: 8  of 10\n",
      "simulation round: 9  of 10\n",
      "simulation round: 10  of 10\n",
      "Writing to file:  data/training_data/ddm/training_data_b22084f6ad7911eda25ca0423f39b436.pickle\n",
      "Dataset:  10  of  10\n",
      "simulation round: 1  of 10\n",
      "simulation round: 2  of 10\n",
      "simulation round: 3  of 10\n",
      "simulation round: 4  of 10\n",
      "simulation round: 5  of 10\n",
      "simulation round: 6  of 10\n",
      "simulation round: 7  of 10\n",
      "simulation round: 8  of 10\n",
      "simulation round: 9  of 10\n",
      "simulation round: 10  of 10\n",
      "Writing to file:  data/training_data/ddm/training_data_b8d55e5cad7911eda25ca0423f39b436.pickle\n"
     ]
    }
   ],
   "source": [
    "# MAKE DATA\n",
    "from ssms.dataset_generators import data_generator\n",
    "n_datasets = 10\n",
    "\n",
    "my_dataset_generator = data_generator(generator_config = ddm_generator_config,\n",
    "                                      model_config = ddm_model_config)\n",
    "\n",
    "for i in range(n_datasets):\n",
    "    print('Dataset: ', i + 1, ' of ', n_datasets)\n",
    "    training_data = my_dataset_generator.generate_data_training_uniform(save = True)"
   ]
  },
  {
   "cell_type": "markdown",
   "id": "8a493cf3-db85-4d72-8818-1fb48cfa0452",
   "metadata": {
    "tags": []
   },
   "source": [
    "Now that we have our training datasets, we preprocess the training data by turning it into a `DataLoader` object. \n",
    "The `DataLoader` is supposed take care of:\n",
    "\n",
    "1. Efficiently *reading in datafiles* and \n",
    "2. *turning them into batches* to be ingested when training a Neural Network. \n",
    "\n",
    "As has become somewhat of a standard, will work off of the `Dataset` class supplied by the `torch.utils.data` module in the  **PyTorch** deep learning framework.\n",
    "\n",
    "\n",
    "The key methods to define in our custom dataset are `__getitem__()` and `__len__()`. \n",
    "\n",
    "`__len__()` helps us to understand the amount of batches contained in a complete run through the data (*epoch* in machine learning lingo). `__getitem_()` is the method called to retrieve the next batch of data.\n",
    "\n",
    "Let's construct it. "
   ]
  },
  {
   "cell_type": "code",
   "execution_count": 5,
   "id": "8da44888-5c53-410e-83ad-206c5afc51d4",
   "metadata": {
    "tags": []
   },
   "outputs": [],
   "source": [
    "import torch\n",
    "class DatasetTorch(torch.utils.data.Dataset):\n",
    "    def __init__(self,\n",
    "                 file_ids,\n",
    "                 batch_size = 32,\n",
    "                 label_lower_bound = None,\n",
    "                 features_key = 'data',\n",
    "                 label_key = 'labels',\n",
    "                 ):\n",
    "        \n",
    "        # Initialization\n",
    "        self.batch_size = batch_size\n",
    "        self.file_ids = file_ids\n",
    "        self.indexes = np.arange(len(self.file_ids))\n",
    "        self.label_lower_bound = label_lower_bound\n",
    "        self.features_key = features_key\n",
    "        self.label_key = label_key\n",
    "        self.tmp_data = None\n",
    "\n",
    "        # Get metadata from loading a test file\n",
    "        self.__init_file_shape()\n",
    "\n",
    "    def __len__(self):\n",
    "        \"\"\"\n",
    "        Calculates number of batches per epoch.\n",
    "        \"\"\"\n",
    "        return int(np.floor((len(self.file_ids) * ((self.file_shape_dict['inputs'][0] // self.batch_size) * self.batch_size)) / self.batch_size))\n",
    "\n",
    "    def __getitem__(self, index):\n",
    "        \"\"\"\n",
    "        Return next batch\n",
    "        \"\"\"\n",
    "        # Check if it is time to load the next file from disk\n",
    "        if index % self.batches_per_file == 0 or self.tmp_data == None:\n",
    "            self.__load_file(file_index = self.indexes[index // self.batches_per_file])\n",
    "\n",
    "        # Generate batch_ids\n",
    "        batch_ids = np.arange(((index % self.batches_per_file) * self.batch_size), \n",
    "                              ((index % self.batches_per_file) + 1) * self.batch_size, 1)\n",
    "        \n",
    "        # Make corresponding batch\n",
    "        X = self.tmp_data[self.features_key][batch_ids, :]\n",
    "        y = np.expand_dims(self.tmp_data[self.label_key][batch_ids], axis = 1)\n",
    "        \n",
    "        # Apply lower bound on labels\n",
    "        if self.label_lower_bound is not None:\n",
    "            y[y < self.label_lower_bound] = self.label_lower_bound \n",
    "        return X, y\n",
    "\n",
    "    def __load_file(self, file_index):\n",
    "        \"\"\"\n",
    "        Load new file if requested.\n",
    "        \"\"\"\n",
    "        # Load file and shuffle the indices\n",
    "        self.tmp_data = pickle.load(open(self.file_ids[file_index], 'rb'))\n",
    "        shuffle_idx = np.random.choice(self.tmp_data[self.features_key].shape[0], \n",
    "                                        size = self.tmp_data[self.features_key].shape[0],\n",
    "                                         replace = True)\n",
    "        self.tmp_data[self.features_key] = self.tmp_data[self.features_key][shuffle_idx, :]\n",
    "        self.tmp_data[self.label_key] = self.tmp_data[self.label_key][shuffle_idx]\n",
    "        return\n",
    "\n",
    "    def __init_file_shape(self):\n",
    "        \"\"\"\n",
    "        Set data shapes during initialization.\n",
    "        \"\"\"\n",
    "        # Function gets dimensionalities form a test data file \n",
    "        # (first in the supplied list of file names)\n",
    "        init_file = pickle.load(open(self.file_ids[0], 'rb'))\n",
    "        self.file_shape_dict = {'inputs': init_file[self.features_key].shape, \n",
    "                                'labels': init_file[self.label_key].shape}\n",
    "        self.batches_per_file = int(self.file_shape_dict['inputs'][0] / self.batch_size)\n",
    "        self.input_dim = self.file_shape_dict['inputs'][1]\n",
    "\n",
    "        if len(self.file_shape_dict['labels']) > 1:\n",
    "            self.label_dim = self.file_shape_dict['labels'][1]\n",
    "        else:\n",
    "            self.label_dim = 1\n",
    "        return"
   ]
  },
  {
   "cell_type": "markdown",
   "id": "a3c51d64-6135-4c9a-a3ec-ab3eece25044",
   "metadata": {},
   "source": [
    "We can now construct our training dataloaders for both our LAN and CPN networks (which we will define next). We use the `DataLoader` class in the `torch.utils.data` module to turn our `Dataset` class into an `iterator`.\n",
    "\n",
    "**NOTE:**\n",
    "\n",
    "To not explode code blocks in this blog post, we will only concern ourselves with `training` data here, instead of including (as one should in a serious machine learning application) `DataLoader` classes for `validation` data as well. Defining `validation` data works analogously.\n",
    "\n",
    "Notice how we change the `features_key` and `label_key` arguments to access the relevant part of our training data files respectively for the LAN and CPN."
   ]
  },
  {
   "cell_type": "code",
   "execution_count": 6,
   "id": "09863478-25bc-4bb6-a015-d4690fa7439e",
   "metadata": {},
   "outputs": [],
   "source": [
    "import os \n",
    "import pickle\n",
    "\n",
    "# MAKE DATALOADERS\n",
    "\n",
    "# List of datafiles (here only one)\n",
    "folder_ = 'data/training_data/ddm/'\n",
    "file_list_ = [folder_ + file_ for file_ in os.listdir(folder_) if '.ipynb' not in file_]\n",
    "\n",
    "# Training datasets\n",
    "training_dataset_lan = DatasetTorch(file_ids = file_list_,\n",
    "                                    batch_size = 8192,\n",
    "                                    label_lower_bound = np.log(1e-7),\n",
    "                                    features_key = 'data',\n",
    "                                    label_key = 'labels',\n",
    "                                    )\n",
    "\n",
    "\n",
    "training_dataset_cpn = DatasetTorch(file_ids = file_list_,\n",
    "                                    batch_size = 512,\n",
    "                                    features_key = 'thetas',\n",
    "                                    label_key = 'choice_p',\n",
    "                                    )\n",
    "\n",
    "# Training dataloaders\n",
    "training_dataloader_lan = torch.utils.data.DataLoader(training_dataset_lan,\n",
    "                                                      shuffle = True,\n",
    "                                                      batch_size = None,\n",
    "                                                      num_workers = 1,\n",
    "                                                      pin_memory = True\n",
    "                                                     )\n",
    "\n",
    "training_dataloader_cpn = torch.utils.data.DataLoader(training_dataset_cpn,\n",
    "                                                      shuffle = True,\n",
    "                                                      batch_size = None,\n",
    "                                                      num_workers = 1,\n",
    "                                                      pin_memory = True\n",
    "                                                     )"
   ]
  },
  {
   "cell_type": "markdown",
   "id": "d9385333-4421-4c4e-be65-bb54d557eaeb",
   "metadata": {},
   "source": [
    "### Building and Training the Network <a class=\"anchor\" id=\"build_and_train\"></a>\n"
   ]
  },
  {
   "cell_type": "markdown",
   "id": "833ab22b-c475-475a-bd38-7f8686ad8a20",
   "metadata": {},
   "source": [
    "We used the simulator to construct training data and constructed dataloaders on top of that. \n",
    "It is time to build and train our networks! \n",
    "\n",
    "We will use the [Flax](https://github.com/google/flax) python package for this purpose.\n",
    "Let's first define a basic neural network class, constraining ourselves to minimal functionality.\n",
    "We build such a class by inheriting from the `nn.Module` class in the `flax.linen` module and specifying two methods.\n",
    "\n",
    "1. The `setup()` method, which will be run as a preparatory step upon instantiation.\n",
    "2. The `__call__()` metod defines the forward pass through the network.\n",
    "\n"
   ]
  },
  {
   "cell_type": "code",
   "execution_count": 7,
   "id": "55d3614e-94c2-44fe-9dc7-c4c502763759",
   "metadata": {
    "tags": []
   },
   "outputs": [],
   "source": [
    "from flax import linen as nn\n",
    "from frozendict import frozendict\n",
    "from typing import Sequence\n",
    "\n",
    "class MLPJax(nn.Module):\n",
    "    \"\"\"\n",
    "    Basic Neural Network class as per the Flax package for neural network \n",
    "    modeling with Jax.\n",
    "    \"\"\"\n",
    "    layer_sizes: Sequence[int] = (100, 100, 100, 1)\n",
    "    activations: Sequence[str] = ('tanh', 'tanh', 'tanh', 'linear')\n",
    "    train: bool = True # if train = False, output applies transform f such that: f(train_output_type) = logprob\n",
    "    train_output_type: str = 'logprob'\n",
    "    activations_dict = frozendict({'relu': nn.relu,\n",
    "                                   'tanh': nn.tanh,\n",
    "                                   'sigmoid': nn.sigmoid\n",
    "                                  })\n",
    "        \n",
    "    def setup(self):\n",
    "        # Assign layers and activation functions as class attributes\n",
    "        self.layers = [nn.Dense(layer_size) for layer_size in self.layer_sizes]\n",
    "        self.activation_funs = [self.activations_dict[activation] for \\\n",
    "                                activation in self.activations if (activation != 'linear')]\n",
    "    \n",
    "    def __call__(self, inputs):\n",
    "        \"\"\"\n",
    "        This is used to define the forward pass, which will later be called via\n",
    "        mymodel.apply(state, input)\n",
    "        \"\"\"\n",
    "        \n",
    "        # Define forward pass\n",
    "        x = inputs\n",
    "        \n",
    "        # Cycle through layers\n",
    "        for i, lyr in enumerate(self.layers):\n",
    "            x = lyr(x)\n",
    "            if i != (len(self.layers) - 1):\n",
    "                x = self.activation_funs[i](x)\n",
    "            else:\n",
    "                if self.activations[i] == 'linear': \n",
    "                    pass\n",
    "                else:\n",
    "                    x = self.activation_funs[i](x)\n",
    "        \n",
    "        # Apply potential transform of outputs if in eval model\n",
    "        if not self.train and self.train_output_type == 'logits':\n",
    "            return - jax.numpy.log((1 + jax.numpy.exp(-x)))\n",
    "        else:\n",
    "            return x\n",
    "    \n",
    "    def load_state_from_file(self, \n",
    "                             seed = 42,\n",
    "                             input_dim = 6,\n",
    "                             file_path = None):\n",
    "        \"\"\"\n",
    "        Load state object (includes the network parameters) from file.\n",
    "        \"\"\"\n",
    "\n",
    "        if file_path is None:\n",
    "            raise ValueError('file_path argument needs to be speficied! ' + \\\n",
    "                             '(Currently Set to its default: None)'\n",
    "                             )\n",
    "\n",
    "        with open(file_path, 'rb') as file_:\n",
    "            loaded_state_bytes = file_.read()\n",
    "        \n",
    "        if input_dim == None:\n",
    "            # flax.serialization.from_bytes wants a reference state, \n",
    "            # but also works without ....\n",
    "            loaded_state = flax.serialization.from_bytes(None, loaded_state_bytes)\n",
    "\n",
    "        else:\n",
    "            # potentially safer since we provide a reference to flax.serialization.from_bytes\n",
    "            rng_, key1_ = jax.random.split(jax.random.PRNGKey(42), 2)\n",
    "            rng_, key2_ = jax.random.split(rng_)\n",
    "\n",
    "            x = jax.random.uniform(key1_, (1, input_dim))\n",
    "            state = self.init(key2_, x)\n",
    "\n",
    "            loaded_state = flax.serialization.from_bytes(state, loaded_state_bytes)\n",
    "        return loaded_state\n",
    "\n",
    "    def make_forward_partial(self,\n",
    "                             seed = 42, \n",
    "                             input_dim = 6,\n",
    "                             state_dict_from_file = True,\n",
    "                             state = None,\n",
    "                             file_path = None,\n",
    "                             add_jitted = False,\n",
    "                            ):\n",
    "        \"\"\"\n",
    "        Make a single-argument forward pass function (only network input needed instead\n",
    "        of needing to pass the network state as well).\n",
    "        \"\"\"\n",
    "\n",
    "        if state_dict_from_file:\n",
    "            if file_path is None:\n",
    "                raise ValueError(\"file_path argument can't be None, \" + \\\n",
    "                                 \"if the state_dict_from_file argument is True!\")\n",
    "            else:\n",
    "                loaded_state = self.load_state_from_file(seed = seed,\n",
    "                                                         input_dim = input_dim,\n",
    "                                                         file_path = file_path)\n",
    "        else:\n",
    "            if state is None:\n",
    "                raise ValueError(\"state argument can't be None, \" + \\\n",
    "                                 \"if the state_dict_from_file argument is set to False\")\n",
    "            else:\n",
    "                loaded_state = state\n",
    "\n",
    "        net_forward = partial(self.apply, loaded_state)\n",
    "        if add_jitted:\n",
    "            net_forward_jitted = jax.jit(net_forward)\n",
    "        else:\n",
    "            net_forward_jitted = None\n",
    "        \n",
    "        return net_forward, net_forward_jitted"
   ]
  },
  {
   "cell_type": "markdown",
   "id": "4cff804d-f4d9-4d57-987b-2ac7096ae01d",
   "metadata": {},
   "source": [
    "Next we define a Neural Network trainer class. This will take a `MLPJax` instance and build the necessary infrastructure for network training around it. The approach roughly follows the suggestions in the [Flax documentation](https://flax.readthedocs.io/en/latest/)."
   ]
  },
  {
   "cell_type": "code",
   "execution_count": 8,
   "id": "95f74b66-fe5d-4b4f-81d0-719c054cc746",
   "metadata": {
    "tags": []
   },
   "outputs": [],
   "source": [
    "import jax\n",
    "\n",
    "import optax\n",
    "from optax import warmup_cosine_decay_schedule\n",
    "from optax import huber_loss\n",
    "from optax import sigmoid_binary_cross_entropy\n",
    "from optax import l2_loss\n",
    "\n",
    "from flax.training import train_state\n",
    "from functools import partial\n",
    "\n",
    "class ModelTrainerJaxMLP:\n",
    "    def __init__(self,\n",
    "                 model = None,\n",
    "                 loss = None,\n",
    "                 train_dl = None,\n",
    "                 seed = None):\n",
    "        \n",
    "        # Provide some options for loss functions\n",
    "        self.loss_dict = {'huber': {'fun': huber_loss,\n",
    "                               'kwargs': {'delta': 1}},\n",
    "                          'mse': {'fun': l2_loss,\n",
    "                                 'kwargs': {}},\n",
    "                          'bcelogit': {'fun': sigmoid_binary_cross_entropy,\n",
    "                                      'kwargs': {}}\n",
    "                         }\n",
    "        \n",
    "        self.model = model\n",
    "        self.train_dl = train_dl\n",
    "        self.loss = loss\n",
    "        self.dataset_len = self.train_dl.dataset.__len__()\n",
    "        self.seed = seed\n",
    "        \n",
    "        self.__get_loss()\n",
    "        self.apply_model = self.__make_apply_model()\n",
    "        self.update_model = self.__make_update_model()\n",
    "            \n",
    "    def __get_loss(self):\n",
    "        self.loss = partial(self.loss_dict[self.loss]['fun'], \n",
    "                            **self.loss_dict[self.loss]['kwargs'])\n",
    "    \n",
    "    def __make_apply_model(self):\n",
    "        \"\"\"\n",
    "        Construct jitted forward and backward pass.\n",
    "        \"\"\"\n",
    "        @jax.jit\n",
    "        def apply_model_core(state, features, labels):\n",
    "            def loss_fn(params):\n",
    "                pred = state.apply_fn(params, features)\n",
    "                loss = jax.numpy.mean(self.loss(pred, labels))\n",
    "                return loss, pred\n",
    "            \n",
    "            grad_fn = jax.value_and_grad(loss_fn, has_aux = True)\n",
    "            (loss, pred), grads = grad_fn(state.params)\n",
    "            return grads, loss\n",
    "        \n",
    "        return apply_model_core\n",
    "    \n",
    "    def __make_update_model(self):\n",
    "        \"\"\"\n",
    "        Construct jitted optimizer step\n",
    "        \"\"\"\n",
    "        @jax.jit\n",
    "        def update_model(state, grads):\n",
    "            return state.apply_gradients(grads = grads)\n",
    "        return update_model\n",
    "        \n",
    "    def create_train_state(self, rng, n_epochs):\n",
    "        \"\"\"\n",
    "        Create a TrainState object that is essentially a convenience object for \n",
    "        storing a given networks' foward pass, parameter state, and optimizer state.\n",
    "        \"\"\"\n",
    "        params = self.model.init(rng, jax.numpy.ones((1, self.train_dl.dataset.input_dim)))\n",
    "        lr_schedule = warmup_cosine_decay_schedule(init_value = 0.0002,\n",
    "                                                   peak_value = 0.02,\n",
    "                                                   warmup_steps = self.dataset_len,\n",
    "                                                   decay_steps = self.dataset_len * \\\n",
    "                                                                 n_epochs,\n",
    "                                                   end_value = 0.0)\n",
    "        tx = optax.adam(learning_rate = lr_schedule)\n",
    "        return train_state.TrainState.create(apply_fn = self.model.apply,\n",
    "                                             params = params,\n",
    "                                             tx = tx)\n",
    "    \n",
    "    def run_epoch(self,\n",
    "                  state,\n",
    "                  train = True):\n",
    "        \"\"\"\n",
    "        Run single epoch\n",
    "        \"\"\"\n",
    "        \n",
    "        epoch_loss = []\n",
    "        for X, y in self.train_dl:\n",
    "            X_jax = jax.numpy.array(X)\n",
    "            y_jax = jax.numpy.array(y)\n",
    "            \n",
    "            grads, loss = self.apply_model(state, X_jax, y_jax)\n",
    "            state = self.update_model(state, grads)\n",
    "            epoch_loss.append(loss)\n",
    "                    \n",
    "        mean_epoch_loss = np.mean(epoch_loss)\n",
    "        return state, mean_epoch_loss\n",
    "    \n",
    "    def train(self,\n",
    "              n_epochs = 25):\n",
    "        \"\"\"\n",
    "        Train the network for the chosen number of epochs.\n",
    "        \"\"\"\n",
    "        \n",
    "        # Initialize network\n",
    "        rng = jax.random.PRNGKey(self.seed)\n",
    "        rng, init_rng = jax.random.split(rng)\n",
    "        state = self.create_train_state(init_rng,\n",
    "                                        n_epochs = n_epochs)\n",
    "\n",
    "        # Training loop over epochs\n",
    "        for epoch in range(n_epochs):\n",
    "            state, train_loss = self.run_epoch(state, train = True)\n",
    "            print('Epoch: {} / {}, test_loss: {}'.format(epoch, n_epochs, \n",
    "                                                         train_loss))\n",
    "\n",
    "        self.state = state\n",
    "        return state"
   ]
  },
  {
   "cell_type": "markdown",
   "id": "3b364219-26e8-41c1-b605-f984814700c3",
   "metadata": {},
   "source": [
    "We can now try to train networks!\n",
    "\n",
    "Let's initialize and train two networks: Our LAN and CPN."
   ]
  },
  {
   "cell_type": "code",
   "execution_count": 9,
   "id": "8a18c9f1-96b0-4e6a-bb90-97f264d8586c",
   "metadata": {
    "tags": []
   },
   "outputs": [],
   "source": [
    "# Initialize LAN\n",
    "network_lan = MLPJax(train = True, # if train = False, output applies transform f such that: f(train_output_type) = logprob\n",
    "                     train_output_type = 'logprob')\n",
    "\n",
    "# Set up the model trainer                                \n",
    "ModelTrainerLAN = ModelTrainerJaxMLP(model = network_lan,\n",
    "                                     train_dl = training_dataloader_lan,\n",
    "                                     loss = 'huber',\n",
    "                                     seed = 111)"
   ]
  },
  {
   "cell_type": "code",
   "execution_count": 10,
   "id": "9db1f759-e693-404f-b68f-1fa5340631bf",
   "metadata": {
    "tags": []
   },
   "outputs": [
    {
     "name": "stderr",
     "output_type": "stream",
     "text": [
      "100%|███████████████████████████████████████████████████████████████████████████████████████████████████████| 1220/1220 [00:09<00:00, 124.10it/s]\n"
     ]
    },
    {
     "name": "stdout",
     "output_type": "stream",
     "text": [
      "Epoch: 0 / 10, test_loss: 0.3539113700389862\n"
     ]
    },
    {
     "name": "stderr",
     "output_type": "stream",
     "text": [
      "100%|███████████████████████████████████████████████████████████████████████████████████████████████████████| 1220/1220 [00:05<00:00, 233.84it/s]\n"
     ]
    },
    {
     "name": "stdout",
     "output_type": "stream",
     "text": [
      "Epoch: 1 / 10, test_loss: 0.049360308796167374\n"
     ]
    },
    {
     "name": "stderr",
     "output_type": "stream",
     "text": [
      "100%|███████████████████████████████████████████████████████████████████████████████████████████████████████| 1220/1220 [00:05<00:00, 233.12it/s]\n"
     ]
    },
    {
     "name": "stdout",
     "output_type": "stream",
     "text": [
      "Epoch: 2 / 10, test_loss: 0.04318421334028244\n"
     ]
    },
    {
     "name": "stderr",
     "output_type": "stream",
     "text": [
      "100%|███████████████████████████████████████████████████████████████████████████████████████████████████████| 1220/1220 [00:05<00:00, 236.30it/s]\n"
     ]
    },
    {
     "name": "stdout",
     "output_type": "stream",
     "text": [
      "Epoch: 3 / 10, test_loss: 0.04056297615170479\n"
     ]
    },
    {
     "name": "stderr",
     "output_type": "stream",
     "text": [
      "100%|███████████████████████████████████████████████████████████████████████████████████████████████████████| 1220/1220 [00:05<00:00, 234.90it/s]\n"
     ]
    },
    {
     "name": "stdout",
     "output_type": "stream",
     "text": [
      "Epoch: 4 / 10, test_loss: 0.03876447305083275\n"
     ]
    },
    {
     "name": "stderr",
     "output_type": "stream",
     "text": [
      "100%|███████████████████████████████████████████████████████████████████████████████████████████████████████| 1220/1220 [00:05<00:00, 234.46it/s]\n"
     ]
    },
    {
     "name": "stdout",
     "output_type": "stream",
     "text": [
      "Epoch: 5 / 10, test_loss: 0.03697078302502632\n"
     ]
    },
    {
     "name": "stderr",
     "output_type": "stream",
     "text": [
      "100%|███████████████████████████████████████████████████████████████████████████████████████████████████████| 1220/1220 [00:05<00:00, 234.58it/s]\n"
     ]
    },
    {
     "name": "stdout",
     "output_type": "stream",
     "text": [
      "Epoch: 6 / 10, test_loss: 0.03512050583958626\n"
     ]
    },
    {
     "name": "stderr",
     "output_type": "stream",
     "text": [
      "100%|███████████████████████████████████████████████████████████████████████████████████████████████████████| 1220/1220 [00:05<00:00, 234.56it/s]\n"
     ]
    },
    {
     "name": "stdout",
     "output_type": "stream",
     "text": [
      "Epoch: 7 / 10, test_loss: 0.03398136422038078\n"
     ]
    },
    {
     "name": "stderr",
     "output_type": "stream",
     "text": [
      "100%|███████████████████████████████████████████████████████████████████████████████████████████████████████| 1220/1220 [00:05<00:00, 238.35it/s]\n"
     ]
    },
    {
     "name": "stdout",
     "output_type": "stream",
     "text": [
      "Epoch: 8 / 10, test_loss: 0.032863277941942215\n"
     ]
    },
    {
     "name": "stderr",
     "output_type": "stream",
     "text": [
      "100%|███████████████████████████████████████████████████████████████████████████████████████████████████████| 1220/1220 [00:05<00:00, 238.23it/s]"
     ]
    },
    {
     "name": "stdout",
     "output_type": "stream",
     "text": [
      "Epoch: 9 / 10, test_loss: 0.03266105800867081\n"
     ]
    },
    {
     "name": "stderr",
     "output_type": "stream",
     "text": [
      "\n"
     ]
    }
   ],
   "source": [
    "# Train LAN\n",
    "model_state_lan = ModelTrainerLAN.train(n_epochs = 10)"
   ]
  },
  {
   "cell_type": "code",
   "execution_count": 11,
   "id": "5d8a97c6-800f-4d36-84b3-76b3daa39fbf",
   "metadata": {},
   "outputs": [],
   "source": [
    "# Initialize CPN\n",
    "network_cpn = MLPJax(train = True,\n",
    "                     train_output_type = 'logits')\n",
    "\n",
    "# Set up the model trainer                                \n",
    "ModelTrainerCPN = ModelTrainerJaxMLP(model = network_cpn,\n",
    "                                     train_dl = training_dataloader_cpn,\n",
    "                                     loss = 'bcelogit',\n",
    "                                     seed = 111)"
   ]
  },
  {
   "cell_type": "code",
   "execution_count": 12,
   "id": "12b7d789-59a0-40d6-8c80-7591dbe9e9c7",
   "metadata": {
    "tags": []
   },
   "outputs": [
    {
     "name": "stderr",
     "output_type": "stream",
     "text": [
      "100%|████████████████████████████████████████████████████████████████████████████████████████████████████████████| 20/20 [00:02<00:00,  6.82it/s]\n"
     ]
    },
    {
     "name": "stdout",
     "output_type": "stream",
     "text": [
      "Epoch: 0 / 20, test_loss: 0.4626886248588562\n"
     ]
    },
    {
     "name": "stderr",
     "output_type": "stream",
     "text": [
      "100%|████████████████████████████████████████████████████████████████████████████████████████████████████████████| 20/20 [00:00<00:00, 43.48it/s]\n"
     ]
    },
    {
     "name": "stdout",
     "output_type": "stream",
     "text": [
      "Epoch: 1 / 20, test_loss: 0.37137386202812195\n"
     ]
    },
    {
     "name": "stderr",
     "output_type": "stream",
     "text": [
      "100%|████████████████████████████████████████████████████████████████████████████████████████████████████████████| 20/20 [00:00<00:00, 43.54it/s]\n"
     ]
    },
    {
     "name": "stdout",
     "output_type": "stream",
     "text": [
      "Epoch: 2 / 20, test_loss: 0.3508610725402832\n"
     ]
    },
    {
     "name": "stderr",
     "output_type": "stream",
     "text": [
      "100%|████████████████████████████████████████████████████████████████████████████████████████████████████████████| 20/20 [00:00<00:00, 44.58it/s]\n"
     ]
    },
    {
     "name": "stdout",
     "output_type": "stream",
     "text": [
      "Epoch: 3 / 20, test_loss: 0.34553033113479614\n"
     ]
    },
    {
     "name": "stderr",
     "output_type": "stream",
     "text": [
      "100%|████████████████████████████████████████████████████████████████████████████████████████████████████████████| 20/20 [00:00<00:00, 43.31it/s]\n"
     ]
    },
    {
     "name": "stdout",
     "output_type": "stream",
     "text": [
      "Epoch: 4 / 20, test_loss: 0.3467753827571869\n"
     ]
    },
    {
     "name": "stderr",
     "output_type": "stream",
     "text": [
      "100%|████████████████████████████████████████████████████████████████████████████████████████████████████████████| 20/20 [00:00<00:00, 43.41it/s]\n"
     ]
    },
    {
     "name": "stdout",
     "output_type": "stream",
     "text": [
      "Epoch: 5 / 20, test_loss: 0.35006290674209595\n"
     ]
    },
    {
     "name": "stderr",
     "output_type": "stream",
     "text": [
      "100%|████████████████████████████████████████████████████████████████████████████████████████████████████████████| 20/20 [00:00<00:00, 43.33it/s]\n"
     ]
    },
    {
     "name": "stdout",
     "output_type": "stream",
     "text": [
      "Epoch: 6 / 20, test_loss: 0.34395644068717957\n"
     ]
    },
    {
     "name": "stderr",
     "output_type": "stream",
     "text": [
      "100%|████████████████████████████████████████████████████████████████████████████████████████████████████████████| 20/20 [00:00<00:00, 43.45it/s]\n"
     ]
    },
    {
     "name": "stdout",
     "output_type": "stream",
     "text": [
      "Epoch: 7 / 20, test_loss: 0.34166863560676575\n"
     ]
    },
    {
     "name": "stderr",
     "output_type": "stream",
     "text": [
      "100%|████████████████████████████████████████████████████████████████████████████████████████████████████████████| 20/20 [00:00<00:00, 43.04it/s]\n"
     ]
    },
    {
     "name": "stdout",
     "output_type": "stream",
     "text": [
      "Epoch: 8 / 20, test_loss: 0.3412695527076721\n"
     ]
    },
    {
     "name": "stderr",
     "output_type": "stream",
     "text": [
      "100%|████████████████████████████████████████████████████████████████████████████████████████████████████████████| 20/20 [00:00<00:00, 43.18it/s]\n"
     ]
    },
    {
     "name": "stdout",
     "output_type": "stream",
     "text": [
      "Epoch: 9 / 20, test_loss: 0.3428086042404175\n"
     ]
    },
    {
     "name": "stderr",
     "output_type": "stream",
     "text": [
      "100%|████████████████████████████████████████████████████████████████████████████████████████████████████████████| 20/20 [00:00<00:00, 43.27it/s]\n"
     ]
    },
    {
     "name": "stdout",
     "output_type": "stream",
     "text": [
      "Epoch: 10 / 20, test_loss: 0.3405509889125824\n"
     ]
    },
    {
     "name": "stderr",
     "output_type": "stream",
     "text": [
      "100%|████████████████████████████████████████████████████████████████████████████████████████████████████████████| 20/20 [00:00<00:00, 43.08it/s]\n"
     ]
    },
    {
     "name": "stdout",
     "output_type": "stream",
     "text": [
      "Epoch: 11 / 20, test_loss: 0.3442434072494507\n"
     ]
    },
    {
     "name": "stderr",
     "output_type": "stream",
     "text": [
      "100%|████████████████████████████████████████████████████████████████████████████████████████████████████████████| 20/20 [00:00<00:00, 43.09it/s]\n"
     ]
    },
    {
     "name": "stdout",
     "output_type": "stream",
     "text": [
      "Epoch: 12 / 20, test_loss: 0.3447364270687103\n"
     ]
    },
    {
     "name": "stderr",
     "output_type": "stream",
     "text": [
      "100%|████████████████████████████████████████████████████████████████████████████████████████████████████████████| 20/20 [00:00<00:00, 43.38it/s]\n"
     ]
    },
    {
     "name": "stdout",
     "output_type": "stream",
     "text": [
      "Epoch: 13 / 20, test_loss: 0.3389212191104889\n"
     ]
    },
    {
     "name": "stderr",
     "output_type": "stream",
     "text": [
      "100%|████████████████████████████████████████████████████████████████████████████████████████████████████████████| 20/20 [00:00<00:00, 43.29it/s]\n"
     ]
    },
    {
     "name": "stdout",
     "output_type": "stream",
     "text": [
      "Epoch: 14 / 20, test_loss: 0.3383418023586273\n"
     ]
    },
    {
     "name": "stderr",
     "output_type": "stream",
     "text": [
      "100%|████████████████████████████████████████████████████████████████████████████████████████████████████████████| 20/20 [00:00<00:00, 42.79it/s]\n"
     ]
    },
    {
     "name": "stdout",
     "output_type": "stream",
     "text": [
      "Epoch: 15 / 20, test_loss: 0.3371047079563141\n"
     ]
    },
    {
     "name": "stderr",
     "output_type": "stream",
     "text": [
      "100%|████████████████████████████████████████████████████████████████████████████████████████████████████████████| 20/20 [00:00<00:00, 43.29it/s]\n"
     ]
    },
    {
     "name": "stdout",
     "output_type": "stream",
     "text": [
      "Epoch: 16 / 20, test_loss: 0.3410891592502594\n"
     ]
    },
    {
     "name": "stderr",
     "output_type": "stream",
     "text": [
      "100%|████████████████████████████████████████████████████████████████████████████████████████████████████████████| 20/20 [00:00<00:00, 43.25it/s]\n"
     ]
    },
    {
     "name": "stdout",
     "output_type": "stream",
     "text": [
      "Epoch: 17 / 20, test_loss: 0.34189531207084656\n"
     ]
    },
    {
     "name": "stderr",
     "output_type": "stream",
     "text": [
      "100%|████████████████████████████████████████████████████████████████████████████████████████████████████████████| 20/20 [00:00<00:00, 43.84it/s]\n"
     ]
    },
    {
     "name": "stdout",
     "output_type": "stream",
     "text": [
      "Epoch: 18 / 20, test_loss: 0.3399137854576111\n"
     ]
    },
    {
     "name": "stderr",
     "output_type": "stream",
     "text": [
      "100%|████████████████████████████████████████████████████████████████████████████████████████████████████████████| 20/20 [00:00<00:00, 43.71it/s]"
     ]
    },
    {
     "name": "stdout",
     "output_type": "stream",
     "text": [
      "Epoch: 19 / 20, test_loss: 0.3399651348590851\n"
     ]
    },
    {
     "name": "stderr",
     "output_type": "stream",
     "text": [
      "\n"
     ]
    }
   ],
   "source": [
    "# Train CPN\n",
    "model_state_cpn = ModelTrainerCPN.train(n_epochs = 20)"
   ]
  },
  {
   "cell_type": "markdown",
   "id": "70f4745e-c8af-41c2-a199-d6cc5be6f5f1",
   "metadata": {},
   "source": [
    "## Connecting to PyMC <a class=\"anchor\" id=\"pymc\"></a>"
   ]
  },
  {
   "cell_type": "markdown",
   "id": "501ac366-0a01-4e61-befd-9b3a54c01add",
   "metadata": {},
   "source": [
    "At this point we have two networks ready, which can be used as *differentiable approximations to likelihood evaluations*.\n",
    "\n",
    "A **CPN**, which we will use as an approximator to,\n",
    "\n",
    "$$ p(choice = Go) = \\int f_{Go} (t|v, a, z, ndt) dt$$\n",
    "\n",
    "and,\n",
    "\n",
    "$$ p(choice = NoGo) = \\int f_{NoGo} (t|v, a, z, ndt) dt = 1 - p(choice = Go)$$\n",
    "\n",
    "A **LAN**, which we will use as an approximator to,\n",
    "\n",
    "$$\\ell\\ell(v,a,z,ndt|rt,c) = f_{c}(t|v,a,z,ndt)$$\n",
    "\n",
    "where $\\ell\\ell$ refers to the **log-likelihood**.\n",
    "\n",
    "Together the CPN and the LAN allow us to construct a likelihood for a complete dataset from the [NeuroRacer](https://www.nature.com/articles/nature12486) game. \n",
    "\n",
    "Take the complete likelihood for a dataset of size $n$, for trials in which the *traffic* sign warrants a button press (**Go Condition**). We can split our dataset into two parts. \n",
    "\n",
    "1. Go condition, Go choice (we observe a reaction time): \n",
    "$D_{Go, Go} = \\{(rt,c)_1, ..., (rt, c)_{n_{Go, Go}} \\}$ \n",
    "2. Go condition, NoGo choice (we don't observe a reaction time): $D_{Go, NoGo} = \\{(-,c)_1, ..., (-, c)_{n_{Go, NoGo}} \\}$ \n",
    "\n",
    "The *log likelihood of the Go condition data* can now be represented as:\n",
    "    $$\\ell\\ell_{Go}(v_{Go}, a, z, ndt| D_{Go, Go}, D_{Go, NoGo}) \\approx \\sum_{i = 0}^{n_{Go, Go}} LAN(v_{Go},a,z,ndt|(rt_i, c_i)) + n_{Go, NoGo} * (1 - CPN(v_{Go},a,z,ndt))$$\n",
    "    \n",
    "For the **NoGo Condition**, we essentially apply the same logic so that the *log likelihood of the NoGo condition data* can now be represented as:\n",
    "    $$\\ell\\ell_{NoGo}(v_{NoGo}, a, z, ndt|D_{NoGo, Go}, D_{NoGo, NoGo}) \\approx \\sum_{i = 0}^{n_{NoGo, Go}} LAN(v_{NoGo},a,z,ndt|(rt_i, c_i)) + n_{NoGo, NoGo} * (1 - CPN(v_{NoGo},a,z,ndt))$$\n",
    "    \n",
    "As per our modeling assumption we switch set $v_{NoGo} = -v_{Go}$, to get the **full data log-likelihood**,\n",
    "\n",
    "$$ \\ell\\ell_{full}(v_{Go}, a, z, ndt|D) \\approx \\ell\\ell_{Go}(v_{Go}, a, z, ndt| D_{Go, Go}, D_{Go, NoGo}) + \\ell\\ell_{NoGo}(-v_{Go}, a, z, ndt|D_{NoGo, Go}, D_{NoGo, NoGo})$$"
   ]
  },
  {
   "cell_type": "markdown",
   "id": "1f4b0594-c3bf-4836-98d2-f10e6d997d14",
   "metadata": {},
   "source": [
    "### Building a custom distribution <a class=\"anchor\" id=\"custom_distribution\"></a>"
   ]
  },
  {
   "cell_type": "markdown",
   "id": "977a67e7-6f22-4f9f-bd71-f392fb03a943",
   "metadata": {},
   "source": [
    "We now have all building blocks to start building a custom distribution for eventual use in a PyMC model. \n",
    "The starting point has to be the construction of a *custom likelihood*, as a valid `PyTensor Op`.\n",
    "For this purpose we use the `NetworkLike` class below. It allows us to construct proper log-likelihoods from our two networks. \n",
    "\n",
    "What do we mean by proper log-likelihood?\n",
    "\n",
    "A valid Jax function that takes in parameters, processes the input data, performs the appropriate forward pass through the networks, and finally sums the resulting trial-wise log-likelihoods to give us a data-log-likelihood. This is taken care of by the `make_logp_jax_funcs_cpn()`, and `make_logp_jax_funcs_cpn()` methods. \n",
    "\n",
    "Finally we need to turn these isolated likelihood functions into a valid `PyTensor Op`, which is taken care of by the `make_jax_logp_ops()` function. Note how we also register our log-likelihood function directly as a Jax log-likelihood (unwrap it) using the `jax.functify` decorator with the `logp_op_dispatch()` method. This log-likelihood function does not need to be compiled (note how we pass the `logp_nojit` likelihood there), which will instead be taken care of by any of the Jax sampler that PyMC provides (via [NumPyro](https://num.pyro.ai/en/latest/index.html#introductory-tutorials), or [BlackJax](https://github.com/blackjax-devs/blackjax))\n",
    "\n",
    "**NOTE:**\n",
    "The below code can be a little involved and hard to digest on a first pass. Consider looking into the excellent tutorials in the PyMC docs on similar topics. Specifically, the tutorial on using a [blackbox likelihood function](https://www.pymc.io/projects/examples/en/latest/case_studies/blackbox_external_likelihood_numpy.html), the tutorial on [custom distributions](https://www.pymc.io/projects/examples/en/latest/howto/custom_distribution.html), the tutorial on [wrapping jax functions into PyTensor Ops](https://www.pymc.io/projects/examples/en/latest/case_studies/wrapping_jax_function.html). Finally there is an excellent [tutorial from PyMC Labs](https://www.pymc-labs.io/blog-posts/jax-functions-in-pymc-3-quick-examples/), which incorporates [Flax](https://flax.readthedocs.io/en/latest/) to train [Bayesian Neural Networks](https://www.cs.toronto.edu/~duvenaud/distill_bayes_net/public/) (amongst other things): A different spin on our story here, but potentially very instructive for purposes of understanding the multitude of use-cases that can be achieved when thinking about how to use Neural Networks in the Bayesian workflow."
   ]
  },
  {
   "cell_type": "code",
   "execution_count": 13,
   "id": "8978bfae-8975-4a67-961a-ec2e7932802b",
   "metadata": {
    "tags": []
   },
   "outputs": [
    {
     "name": "stderr",
     "output_type": "stream",
     "text": [
      "WARNING (pytensor.tensor.blas): Using NumPy C-API based implementation for BLAS functions.\n"
     ]
    }
   ],
   "source": [
    "from __future__ import annotations\n",
    "\n",
    "from os import PathLike\n",
    "from typing import Callable, Tuple\n",
    "\n",
    "import pytensor \n",
    "pytensor.config.floatX = \"float32\"\n",
    "import pytensor.tensor as pt\n",
    "import jax.numpy as jnp\n",
    "import numpy as np\n",
    "from pytensor.graph import Apply, Op\n",
    "from pytensor.link.jax.dispatch import jax_funcify\n",
    "from jax import grad, jit\n",
    "from numpy.typing import ArrayLike\n",
    "\n",
    "LogLikeFunc = Callable[..., ArrayLike]\n",
    "LogLikeGrad = Callable[..., ArrayLike]\n",
    "\n",
    "import pymc as pm\n",
    "from pytensor.tensor.random.op import RandomVariable\n",
    "\n",
    "class NetworkLike:\n",
    "    @classmethod\n",
    "    def make_logp_jax_funcs_lan(\n",
    "        cls,\n",
    "        model = None,\n",
    "        n_params = None,\n",
    "    ) -> Tuple[LogLikeFunc, LogLikeGrad, LogLikeFunc,]:\n",
    "        \n",
    "        def logp(data: np.ndarray, *dist_params) -> ArrayLike:\n",
    "\n",
    "            # Makes a matrix to feed to the LAN model\n",
    "            params_matrix = jnp.repeat(\n",
    "                jnp.stack(dist_params).reshape(1, -1), axis=0, repeats=data.shape[0]\n",
    "            )\n",
    "            \n",
    "            # Set 'v' parameters depending on condition\n",
    "            params_matrix = params_matrix.at[:, 0].set(params_matrix[:, 0] * data[:, 2])\n",
    "\n",
    "            # Stack parameters and data to have full input\n",
    "            input_matrix = jnp.hstack([params_matrix, data[:, :2]])\n",
    "            \n",
    "            # Network forward and sum\n",
    "            return jnp.sum(\n",
    "                jnp.squeeze(model(input_matrix))\n",
    "            )\n",
    "\n",
    "        logp_grad = grad(logp, argnums=range(1, 1 + n_params))\n",
    "        return jit(logp), jit(logp_grad), logp\n",
    "    \n",
    "    @classmethod\n",
    "    def make_logp_jax_funcs_cpn(\n",
    "        cls,\n",
    "        model = None,\n",
    "        n_params = None,\n",
    "    ) -> Tuple[LogLikeFunc, LogLikeGrad, LogLikeFunc,]:\n",
    "        \"\"\"Makes a jax function from an ONNX model.\n",
    "        Args:\n",
    "            model: A path or url to the ONNX model, or an ONNX Model object\n",
    "            already loaded.\n",
    "            compile: Whether to use jit in jax to compile the model.\n",
    "        Returns: A triple of jax or Python functions. The first calculates the\n",
    "            forward pass, the second calculates the gradient, and the third is\n",
    "            the forward-pass that's not jitted.\n",
    "        \"\"\"\n",
    "\n",
    "        def logp(data: np.ndarray, *dist_params) -> ArrayLike:\n",
    "            \"\"\"\n",
    "            Computes the sum of the log-likelihoods given data and arbitrary\n",
    "            numbers of parameters.\n",
    "            Args:\n",
    "                data: response time with sign indicating direction.\n",
    "                dist_params: a list of parameters used in the likelihood computation.\n",
    "            Returns:\n",
    "                The sum of log-likelihoods.\n",
    "            \"\"\"\n",
    "\n",
    "            # Makes a matrix to feed to the LAN model\n",
    "            n_nogo_go_condition = jnp.sum(data > 0)\n",
    "            n_nogo_nogo_condition = jnp.sum(data < 0)\n",
    "            dist_params_go  = jnp.stack(dist_params).reshape(1, -1)\n",
    "\n",
    "            # AF-TODO Bugfix here !\n",
    "            dist_params_nogo = jnp.stack(dist_params).reshape(1, -1)\n",
    "            dist_params_nogo = dist_params_nogo.at[0].set((-1) * dist_params_nogo[0])\n",
    "\n",
    "            net_in = jnp.vstack([dist_params_go, dist_params_nogo])\n",
    "\n",
    "            net_out = jnp.squeeze(model(net_in))\n",
    "\n",
    "            out = (jnp.log(1 - jnp.exp(net_out[0])) * n_nogo_go_condition) + \\\n",
    "                    (jnp.log(1 - jnp.exp(net_out[1])) * n_nogo_nogo_condition)\n",
    "\n",
    "            return out\n",
    "\n",
    "        logp_grad = grad(logp, argnums=range(1, 1 + n_params))\n",
    "        return jit(logp), jit(logp_grad), logp\n",
    "\n",
    "    @staticmethod\n",
    "    def make_jax_logp_ops(\n",
    "        logp: LogLikeFunc,\n",
    "        logp_grad: LogLikeGrad,\n",
    "        logp_nojit: LogLikeFunc,\n",
    "    ) -> LogLikeFunc:\n",
    "        \"\"\"Wraps the JAX functions and its gradient in Pytensor Ops.\n",
    "        Args:\n",
    "            logp: A JAX function that represents the feed-forward operation of the\n",
    "                LAN network.\n",
    "            logp_grad: The derivative of the above function.\n",
    "            logp_nojit: A Jax function\n",
    "        Returns:\n",
    "            An pytensor op that wraps the feed-forward operation and can be used with\n",
    "            pytensor.grad.\n",
    "        \"\"\"\n",
    "\n",
    "        class LogpOp(Op):\n",
    "            \"\"\"Wraps a JAX function in an pytensor Op.\"\"\"\n",
    "\n",
    "            def make_node(self, data, *dist_params):\n",
    "                inputs = [\n",
    "                    pt.as_tensor_variable(data),\n",
    "                ] + [pt.as_tensor_variable(dist_param) for dist_param in dist_params]\n",
    "\n",
    "                outputs = [pt.scalar()]\n",
    "\n",
    "                return Apply(self, inputs, outputs)\n",
    "\n",
    "            def perform(self, node, inputs, output_storage):\n",
    "                \"\"\"Performs the Apply node.\n",
    "                Args:\n",
    "                    inputs: This is a list of data from which the values stored in\n",
    "                        output_storage are to becomputed using non-symbolic language.\n",
    "                    output_storage: This is a list of storage cells where the output\n",
    "                        is to be stored. A storage cell is a one-element list. It is\n",
    "                        forbidden to change the length of the list(s) contained in\n",
    "                        output_storage. There is one storage cell for each output of\n",
    "                        the Op.\n",
    "                \"\"\"\n",
    "                result = logp(*inputs)\n",
    "                output_storage[0][0] = np.asarray(result, dtype=node.outputs[0].dtype)\n",
    "\n",
    "            def grad(self, inputs, output_grads):\n",
    "                results = lan_logp_grad_op(*inputs)\n",
    "                output_gradient = output_grads[0]\n",
    "                return [\n",
    "                    pytensor.gradient.grad_not_implemented(self, 0, inputs[0]),\n",
    "                ] + [output_gradient * result for result in results]\n",
    "\n",
    "        class LogpGradOp(Op):\n",
    "            \"\"\"Wraps the gradient opearation of a jax function in an pytensor op.\"\"\"\n",
    "\n",
    "            def make_node(self, data, *dist_params):\n",
    "                inputs = [\n",
    "                    pt.as_tensor_variable(data),\n",
    "                ] + [pt.as_tensor_variable(dist_param) for dist_param in dist_params]\n",
    "                outputs = [inp.type() for inp in inputs[1:]]\n",
    "\n",
    "                return Apply(self, inputs, outputs)\n",
    "\n",
    "            def perform(self, node, inputs, outputs):\n",
    "                results = logp_grad(inputs[0], *inputs[1:])\n",
    "\n",
    "                for i, result in enumerate(results):\n",
    "                    outputs[i][0] = np.asarray(result, dtype=node.outputs[i].dtype)\n",
    "\n",
    "        lan_logp_op = LogpOp()\n",
    "        lan_logp_grad_op = LogpGradOp()\n",
    "\n",
    "        # Unwraps the JAX function for sampling with JAX backend.\n",
    "        @jax_funcify.register(LogpOp) # Can fail in notebooks\n",
    "        def logp_op_dispatch(op, **kwargs):  # pylint: disable=W0612,W0613\n",
    "            return logp_nojit\n",
    "\n",
    "        return lan_logp_op"
   ]
  },
  {
   "cell_type": "markdown",
   "id": "e79a25d0-96ff-4a03-8782-42116518390a",
   "metadata": {},
   "source": [
    "We can now construct a valid likelihood function to be used with `PyMC` distributions. \n",
    "\n",
    "A `pm.Distribution` defines two methods (the `dist` methods which serves as a constructor of the class, and the `logp` method, to which we pass our log-likelihood `pytenor Op`) and expects to be supplied with a `RandomVariable` class which is takes care of data simulation. \n",
    "\n",
    "Note how we supply the `DDMRandomVariable` and the (explicitly copied to avoid misbehaviour of the samplers) `DDMCPNRandomVariable` classes here, however these classes serve largely as empty placeholders in the context of this blog-post."
   ]
  },
  {
   "cell_type": "code",
   "execution_count": 14,
   "id": "66b1da69-b585-49b6-99a8-828f72533f40",
   "metadata": {
    "tags": []
   },
   "outputs": [],
   "source": [
    "class DDMRandomVariable(RandomVariable):\n",
    "    \"\"\"\n",
    "    We need to specify a RandomVariable class to specify our \n",
    "    custom distribution below. However this is just a placeholder, \n",
    "    since we will not be looking directly into Posterior Predictives in the context\n",
    "    of this blog post.\n",
    "    \"\"\"\n",
    "\n",
    "    name: str = \"PlacerHolder_RV\"\n",
    "    ndim_supp: int = 0\n",
    "    ndims_params: List[int] = [0] * 10\n",
    "    dtype: str = \"floatX\"\n",
    "    _print_name: Tuple[str, str] = (\"PlaceHolder\", \"\\\\operatorname{PlaceHolder}\")\n",
    "\n",
    "    @classmethod\n",
    "    # pylint: disable=arguments-renamed,bad-option-value,W0221\n",
    "    def rng_fn(  # type: ignore\n",
    "        cls, dist_params: List[float], **kwargs\n",
    "    ) -> np.ndarray:\n",
    "        \"\"\"\n",
    "        This function is just a (necessary) placeholder.\n",
    "        \"\"\"\n",
    "        return np.zeros(100)  \n",
    "    \n",
    "DDMCPNRandomVariable = deepcopy(DDMRandomVariable)\n",
    "DDMCPNRandomVariable = type('DDMCPNRandomVariable', DDMCPNRandomVariable.__bases__, dict(DDMCPNRandomVariable.__dict__)) \n",
    "\n",
    "class DDM:\n",
    "    \"\"\"\n",
    "    We use this class to \n",
    "    \"\"\"\n",
    "\n",
    "    @classmethod\n",
    "    def make_distribution(\n",
    "        cls,\n",
    "        loglik: LogLikeFunc | None,\n",
    "        rv: Type[RandomVariable] | None,\n",
    "        list_params: List[str] | None,\n",
    "        kind: str | None = 'lan',\n",
    "    ) -> Type[pm.Distribution]:\n",
    "        \"\"\"\n",
    "          Class factory for construction of the custom distribution class below.\n",
    "        \"\"\"\n",
    "        \n",
    "        class Distribution(pm.Distribution):\n",
    "            \"\"\"\n",
    "            This is our actual PyMC Distribution (constructed as a derived class form pm.Distribution). \n",
    "            It needs a rv_op (random) method, a dist method (a utility to construct the initializer via \n",
    "            single parameter arguments) and the logp() methods, which contains our (painstakingly constructed :)) \n",
    "            log-likelihood functions.\n",
    "            \"\"\"\n",
    "            rv_op = DDMRandomVariable() if kind == 'lan' else DDMCPNRandomVariable()\n",
    "            params = list_params\n",
    "\n",
    "            @classmethod\n",
    "            def dist(cls, **kwargs):\n",
    "                dist_params = [\n",
    "                    pt.as_tensor_variable(pm.floatX(kwargs[param]))\n",
    "                    for param in cls.params\n",
    "                ]\n",
    "                other_kwargs = {k: v for k, v in kwargs.items() if k not in cls.params}\n",
    "                return super().dist(dist_params, **other_kwargs)\n",
    "\n",
    "            def logp(data, *dist_params):\n",
    "                return loglik(data, *dist_params)\n",
    "\n",
    "        return Distribution\n",
    "\n",
    "    @classmethod\n",
    "    def make_ssm_distribution(\n",
    "        cls,\n",
    "        list_params: List[str],\n",
    "        model: object | None = None,\n",
    "        rv: Type[RandomVariable] | None = None,\n",
    "        kind = 'cpn',\n",
    "    ) -> Type[pm.Distribution]:\n",
    "        \"\"\"Function that constructs log-likelihood functions via the NetworkLike class defined above, \n",
    "           then uses these log-likelihoods to construct a custom PyMC Distribution.\n",
    "        Args:\n",
    "            model: Jax function.\n",
    "            list_params: A list of the names of the parameters following the order of\n",
    "                how they are fed to the Jax function.\n",
    "            rv: The RandomVariable Op used for posterior sampling.\n",
    "        Returns:\n",
    "            A PyMC Distribution that uses the Jax function as its log-likelihood.\n",
    "        \"\"\"\n",
    "\n",
    "        if kind == 'cpn':\n",
    "            # construct log-likelihoods and grads\n",
    "            logp, logp_grad, logp_nojit = NetworkLike.make_logp_jax_funcs_cpn(\n",
    "                                                                            model,\n",
    "                                                                            n_params=len(list_params),\n",
    "                                                                            )\n",
    "            # construct valid pytensor logp_op (to be recognized by PyMC)\n",
    "            logp_op = NetworkLike.make_jax_logp_ops(logp, logp_grad, logp_nojit)\n",
    "        elif kind == 'lan':\n",
    "            # construct log-likelihoods and grads\n",
    "            logp, logp_grad, logp_nojit = NetworkLike.make_logp_jax_funcs_lan(\n",
    "                                                                            model,\n",
    "                                                                            n_params=len(list_params),\n",
    "                                                                            )\n",
    "            # construct valid pytensor logp_op (to be recognized by PyMC)\n",
    "            logp_op = NetworkLike.make_jax_logp_ops(logp, logp_grad, logp_nojit)\n",
    "        \n",
    "        return cls.make_distribution(logp_op, rv, list_params, kind = kind)"
   ]
  },
  {
   "cell_type": "markdown",
   "id": "9d8577d6-dbe6-4a8f-9682-7762b774d99e",
   "metadata": {},
   "source": [
    "We now construct simple forward functions for our networks (`lan_forward()`, `cpn_forward()`). We use the `make_forward_partial()` method of our previously defined `MLPJax` class. First we instantiate the networks in evaluation mode. The `make_forward_partial()` function then attaches our trained parameters to the usual Flax forward call (which takes in two arguments, the parameters and the model input) so that we can call `lan_forward()` and `cpn_forward()` with a single argument, the input data to be pushed through the respective network. \n",
    "\n",
    "As you can check above, the work is done by the `partial()` function."
   ]
  },
  {
   "cell_type": "code",
   "execution_count": 15,
   "id": "ffa26e3d-35a8-4e5d-a63e-b43176fc9bd4",
   "metadata": {
    "tags": []
   },
   "outputs": [],
   "source": [
    "# Initialize LAN in evaluation mode\n",
    "network_lan_eval = MLPJax(train = False,\n",
    "                          train_output_type = 'logprob')\n",
    "\n",
    "# Make jitted forward passes (with fixed weights)\n",
    "lan_forward, _ = network_lan_eval.make_forward_partial(seed = 42,\n",
    "                                                       add_jitted = True,\n",
    "                                                       state = ModelTrainerLAN.state.params,\n",
    "                                                       state_dict_from_file = False,\n",
    "                                                       input_dim = None)\n",
    "\n",
    "\n",
    "# Initialize CPN in evaluation mode\n",
    "network_cpn_eval = MLPJax(train = False,\n",
    "                          train_output_type = 'logits')\n",
    "\n",
    "\n",
    "# Make jitted forward passes (with fixed weights)\n",
    "cpn_forward, _ = network_cpn_eval.make_forward_partial(seed = 42,\n",
    "                                                       add_jitted = True,\n",
    "                                                       state = ModelTrainerCPN.state.params,\n",
    "                                                       state_dict_from_file = False,\n",
    "                                                       input_dim = None)                     "
   ]
  },
  {
   "cell_type": "markdown",
   "id": "c0943fc8-72c1-46fa-933c-a688f48d227b",
   "metadata": {},
   "source": [
    "As a quick aside, to illustrate the performance of the Networks, we plot their behavior below. \n",
    "\n",
    "First, consider the LAN, which gives us choice / reaction time distributions directly. \n",
    "We will vary the $v$ parameter to illustrate how the likelihood produced by the network varies in response. "
   ]
  },
  {
   "cell_type": "code",
   "execution_count": 16,
   "id": "0042c34d-24d5-48c5-8735-c5bc25dc27cc",
   "metadata": {
    "tags": []
   },
   "outputs": [
    {
     "data": {
      "image/png": "[encoded data removed]",
      "text/plain": [
       "<Figure size 640x480 with 1 Axes>"
      ]
     },
     "metadata": {},
     "output_type": "display_data"
    }
   ],
   "source": [
    "# Loop over parameter configurations to plot\n",
    "# multiple LAN outputs\n",
    "for i in np.linspace(1., 2., 20):\n",
    "    inp_ = np.zeros((2000, 6))\n",
    "    inp_[:, 0] = i # v parameter --> varies\n",
    "    inp_[:, 1] = 1.0 # a parameter\n",
    "    inp_[:, 2] = 0.5 # z parameter\n",
    "    inp_[:, 3] = 0.5 # ndt parameter\n",
    "    inp_[:, 4] = np.concatenate([np.linspace(5, 0, 1000),\n",
    "                                 np.linspace(0, 5, 1000)]) # rt\n",
    "    inp_[:, 5] = np.concatenate([(-1)*np.ones(1000), np.ones(1000)]) # choices\n",
    "\n",
    "\n",
    "    plt.plot(inp_[:, 4] * inp_[:, 5], jnp.exp(lan_forward_jitted(inp_)), color = 'black', alpha = 0.2)\n",
    "    plt.title('LAN likelihood for varying v parameter')\n",
    "    plt.xlabel('Reaction Time')\n",
    "    plt.ylabel('Density')"
   ]
  },
  {
   "cell_type": "markdown",
   "id": "86d6c426-f126-4149-8099-3331def3aff0",
   "metadata": {},
   "source": [
    "Next we consider the performance of the CPN which, remember, spits out choice probabilities only.\n",
    "In this plot we vary the $v$ parameter on the x-axis, and show how the choice probabilities produced by the network vary in reponse. This is repeated for multiple levels of the $z$ (or bias) parameter."
   ]
  },
  {
   "cell_type": "code",
   "execution_count": 17,
   "id": "9d3b0b4c-c192-445a-8fc0-ceb45f3912a6",
   "metadata": {
    "tags": []
   },
   "outputs": [
    {
     "data": {
      "text/plain": [
       "Text(0, 0.5, 'P(choice = 1)')"
      ]
     },
     "execution_count": 17,
     "metadata": {},
     "output_type": "execute_result"
    },
    {
     "data": {
      "image/png": "[encoded data removed]",
      "text/plain": [
       "<Figure size 640x480 with 1 Axes>"
      ]
     },
     "metadata": {},
     "output_type": "display_data"
    }
   ],
   "source": [
    "# Vary z in outer loop\n",
    "for i in np.linspace(0.1, 0.9, 10):\n",
    "    dat_tmp = np.zeros((1000, 4))\n",
    "    dat_tmp[:, 0] = np.linspace(-2, 2, 1000) # vary v parameter\n",
    "    dat_tmp[:, 1] = 2.0 # a\n",
    "    dat_tmp[:, 2] = i # z\n",
    "    dat_tmp[:, 3] = 1. # ndt / t\n",
    "    plt.plot(dat_tmp[:, 0], jnp.exp(cpn_forward_jitted(dat_tmp)), color = 'black')\n",
    "    \n",
    "plt.ylim(0, 1)\n",
    "plt.title('CPN choice probabilities for varying z')\n",
    "plt.xlabel('v parameter value')\n",
    "plt.ylabel('P(choice = 1)')"
   ]
  },
  {
   "cell_type": "markdown",
   "id": "269a42a9-23f2-4607-a025-070d0534a156",
   "metadata": {},
   "source": [
    "The outputs of the networks behave very regularly which is reassuring. We emphasize however that for serious applications we are better served using a much *larger training data set*. The scale of the simulation run here was chosen to make running the code in this blog-post feasible on local machines in a reasonable amount of time."
   ]
  },
  {
   "cell_type": "markdown",
   "id": "fa8a0cf9-6f2c-4573-964d-4b0b383f20ac",
   "metadata": {},
   "source": [
    "### Plug the custom distribution into a PyMC model <a class=\"anchor\" id=\"pymc_model\"></a>"
   ]
  },
  {
   "cell_type": "markdown",
   "id": "39978de5-537d-4c5d-9dbc-6708da0803c3",
   "metadata": {},
   "source": [
    "This is finally where the hard work in the previous sections pays off. We are able to *construct our PyMC Model* by assembling the pieces we constructed in the previous sections. First, we instantiate our LAN and CPN based PyMC distributions. Then let us define a function, which takes in a simulated dataset and returns a predefined PyMC model for us. "
   ]
  },
  {
   "cell_type": "code",
   "execution_count": 18,
   "id": "a330072d-797f-4f2a-9aa8-45891bc1a7b2",
   "metadata": {
    "tags": []
   },
   "outputs": [],
   "source": [
    "# Instantiate LAN based PyMC distribution for DDM\n",
    "LAN_DDM = DDM.make_ssm_distribution(model=lan_forward,\n",
    "                                    list_params=[\"v\", \"a\", \"z\", \"t\"],\n",
    "                                    kind = 'lan',\n",
    "                                    )\n",
    "\n",
    "CPN_DDM = DDM.make_ssm_distribution(model=cpn_forward,\n",
    "                                    list_params = [\"v\", \"a\", \"z\", \"t\"],\n",
    "                                    kind = 'cpn',\n",
    "                                    ) # worked"
   ]
  },
  {
   "cell_type": "code",
   "execution_count": 31,
   "id": "2ae1b478-4b33-457f-9450-9739940aabc7",
   "metadata": {
    "tags": []
   },
   "outputs": [],
   "source": [
    "def construct_pymc_model(data):\n",
    "    \"\"\"\n",
    "    Construct our PyMC model given a dataset.\n",
    "    \"\"\"\n",
    "    \n",
    "    # Data preprocessing:\n",
    "    # We expect three columns [rt, choice, condition(go or nogo)]\n",
    "    # We split the data according to whether the choice is go or nogo\n",
    "    data_nogo = data.loc[data.choice < 0, :]['is_go_trial'].values\n",
    "    data_go = data.loc[data.choice > 0, :].values\n",
    "    \n",
    "    with pm.Model() as ddm:\n",
    "        # Define simple Uniform priors\n",
    "        v = pm.Uniform(\"v\", -3.0, 3.0)\n",
    "        a = pm.Uniform(\"a\", 0.3, 2.5)\n",
    "        z = pt.constant(0.5)\n",
    "        t = pm.Uniform(\"t\", 0.0, 2.0)\n",
    "\n",
    "        go_likelihood = LAN_DDM(\n",
    "                                name = \"choice_rt\",\n",
    "                                v = v,\n",
    "                                a = a,\n",
    "                                z = z,\n",
    "                                t = t,\n",
    "                                observed = data_go,\n",
    "                               )\n",
    "\n",
    "        nogo_likelihood = CPN_DDM(\n",
    "                                  name = \"choice_only\",\n",
    "                                  v = v,\n",
    "                                  a = a,\n",
    "                                  z = z,\n",
    "                                  t = t,\n",
    "                                  observed = data_nogo,\n",
    "                                 )\n",
    "    return ddm"
   ]
  },
  {
   "cell_type": "markdown",
   "id": "55f66977-98fc-4ffa-9f87-070a3a32d412",
   "metadata": {},
   "source": [
    "### Inference example <a class=\"anchor\" id=\"inference_example\"></a>"
   ]
  },
  {
   "cell_type": "markdown",
   "id": "ea3491aa-4f6c-4ebb-90ed-122f96720d4b",
   "metadata": {},
   "source": [
    "We are nearing the end of this blog-post (promised). All that remains is to simply *try it out*. \n",
    "At this point we can simulate some synthetic [Neuroracer](https://www.nature.com/articles/nature12486) experiment data, fire up our newly designed PyMC model and run our MCMC sampler for parameter inference. Then let's simulate...\n",
    "\n",
    "We pick a set of parameters, and following our modeling assumptions, we apply $v_{NoGo} = (-1)*v_{Go}$ for the trials we assign to the NoGo condition."
   ]
  },
  {
   "cell_type": "code",
   "execution_count": 20,
   "id": "650e1da5-d524-4ded-adf7-3d0f15e16cd1",
   "metadata": {
    "tags": []
   },
   "outputs": [],
   "source": [
    "# Let's make some data \n",
    "from ssms.basic_simulators import simulator\n",
    "parameters = {'v': 1.0,\n",
    "              'a': 1.5,\n",
    "              'z': 0.5,\n",
    "              't': 0.5}\n",
    "\n",
    "parameters_go = [parameters[key_] for key_ in parameters.keys()]\n",
    "parameters_nogo = [parameters[key_] if key_ != 'v' else ((-1)*parameters[key_]) for key_ in parameters.keys()]\n",
    "\n",
    "# Run simulations for each condition (go, nogo)\n",
    "sim_go = simulator(theta = parameters_go, model = 'ddm', n_samples = 500) \n",
    "sim_nogo = simulator(theta = parameters_nogo, model = 'ddm', n_samples = 500)\n",
    "\n",
    "# Process data and add a column that signifies whether the trial,\n",
    "# belongs to a go (1) or nogo (-1) condition\n",
    "data_go_condition = np.hstack([sim_go['rts'], sim_go['choices'], np.ones((500, 1))])\n",
    "data_nogo_condition = np.hstack([sim_nogo['rts'], sim_nogo['choices'], (-1)*np.ones((500, 1))])\n",
    "\n",
    "# Stack the two datasets and turn into DataFrame\n",
    "data = np.vstack([data_go_condition, data_nogo_condition]).astype(np.float32)\n",
    "data_pd = pd.DataFrame(data, columns = ['rt', 'choice', 'is_go_trial'])"
   ]
  },
  {
   "cell_type": "markdown",
   "id": "95cfe2b3-6ec2-4e69-91ec-974f3155a538",
   "metadata": {
    "tags": []
   },
   "source": [
    "Our dataset at hand, we can now intiate the PyMC model."
   ]
  },
  {
   "cell_type": "code",
   "execution_count": 21,
   "id": "a8377e3b-3914-40c6-abb2-0291e3fed0fe",
   "metadata": {
    "tags": []
   },
   "outputs": [],
   "source": [
    "ddm_blog = construct_pymc_model(data_pd)"
   ]
  },
  {
   "cell_type": "markdown",
   "id": "32ff5c4f-d539-4879-9855-3efb02c3dd8c",
   "metadata": {},
   "source": [
    "Let's visualize the model structure. "
   ]
  },
  {
   "cell_type": "code",
   "execution_count": 22,
   "id": "93b8d2a4-59d7-4176-85f6-823fcaf9677e",
   "metadata": {
    "tags": []
   },
   "outputs": [
    {
     "data": {
      "image/svg+xml": [
       "<?xml version=\"1.0\" encoding=\"UTF-8\" standalone=\"no\"?>\n",
       "<!DOCTYPE svg PUBLIC \"-//W3C//DTD SVG 1.1//EN\"\n",
       " \"http://www.w3.org/Graphics/SVG/1.1/DTD/svg11.dtd\">\n",
       "<!-- Generated by graphviz version 2.40.1 (20161225.0304)\n",
       " -->\n",
       "<!-- Title: %3 Pages: 1 -->\n",
       "<svg width=\"498pt\" height=\"233pt\"\n",
       " viewBox=\"0.00 0.00 498.00 232.91\" xmlns=\"http://www.w3.org/2000/svg\" xmlns:xlink=\"http://www.w3.org/1999/xlink\">\n",
       "<g id=\"graph0\" class=\"graph\" transform=\"scale(1 1) rotate(0) translate(4 228.9066)\">\n",
       "<title>%3</title>\n",
       "<polygon fill=\"#ffffff\" stroke=\"transparent\" points=\"-4,4 -4,-228.9066 494,-228.9066 494,4 -4,4\"/>\n",
       "<g id=\"clust1\" class=\"cluster\">\n",
       "<title>cluster502 x 3</title>\n",
       "<path fill=\"none\" stroke=\"#000000\" d=\"M20,-8C20,-8 210,-8 210,-8 216,-8 222,-14 222,-20 222,-20 222,-109.9533 222,-109.9533 222,-115.9533 216,-121.9533 210,-121.9533 210,-121.9533 20,-121.9533 20,-121.9533 14,-121.9533 8,-115.9533 8,-109.9533 8,-109.9533 8,-20 8,-20 8,-14 14,-8 20,-8\"/>\n",
       "<text text-anchor=\"middle\" x=\"193\" y=\"-15.8\" font-family=\"Times,serif\" font-size=\"14.00\" fill=\"#000000\">502 x 3</text>\n",
       "</g>\n",
       "<g id=\"clust2\" class=\"cluster\">\n",
       "<title>cluster498</title>\n",
       "<path fill=\"none\" stroke=\"#000000\" d=\"M242,-8C242,-8 470,-8 470,-8 476,-8 482,-14 482,-20 482,-20 482,-109.9533 482,-109.9533 482,-115.9533 476,-121.9533 470,-121.9533 470,-121.9533 242,-121.9533 242,-121.9533 236,-121.9533 230,-115.9533 230,-109.9533 230,-109.9533 230,-20 230,-20 230,-14 236,-8 242,-8\"/>\n",
       "<text text-anchor=\"middle\" x=\"463.5\" y=\"-15.8\" font-family=\"Times,serif\" font-size=\"14.00\" fill=\"#000000\">498</text>\n",
       "</g>\n",
       "<!-- t -->\n",
       "<g id=\"node1\" class=\"node\">\n",
       "<title>t</title>\n",
       "<ellipse fill=\"none\" stroke=\"#000000\" cx=\"352\" cy=\"-187.43\" rx=\"43.6818\" ry=\"37.4533\"/>\n",
       "<text text-anchor=\"middle\" x=\"352\" y=\"-198.73\" font-family=\"Times,serif\" font-size=\"14.00\" fill=\"#000000\">t</text>\n",
       "<text text-anchor=\"middle\" x=\"352\" y=\"-183.73\" font-family=\"Times,serif\" font-size=\"14.00\" fill=\"#000000\">~</text>\n",
       "<text text-anchor=\"middle\" x=\"352\" y=\"-168.73\" font-family=\"Times,serif\" font-size=\"14.00\" fill=\"#000000\">Uniform</text>\n",
       "</g>\n",
       "<!-- gochoices -->\n",
       "<g id=\"node4\" class=\"node\">\n",
       "<title>gochoices</title>\n",
       "<ellipse fill=\"#d3d3d3\" stroke=\"#000000\" cx=\"115\" cy=\"-76.4767\" rx=\"98.9899\" ry=\"37.4533\"/>\n",
       "<text text-anchor=\"middle\" x=\"115\" y=\"-87.7767\" font-family=\"Times,serif\" font-size=\"14.00\" fill=\"#000000\">gochoices</text>\n",
       "<text text-anchor=\"middle\" x=\"115\" y=\"-72.7767\" font-family=\"Times,serif\" font-size=\"14.00\" fill=\"#000000\">~</text>\n",
       "<text text-anchor=\"middle\" x=\"115\" y=\"-57.7767\" font-family=\"Times,serif\" font-size=\"14.00\" fill=\"#000000\">DDMRandomVariable</text>\n",
       "</g>\n",
       "<!-- t&#45;&gt;gochoices -->\n",
       "<g id=\"edge1\" class=\"edge\">\n",
       "<title>t&#45;&gt;gochoices</title>\n",
       "<path fill=\"none\" stroke=\"#000000\" d=\"M317.9954,-163.5195C310.5781,-158.7474 302.6543,-153.9729 295,-149.9533 265.699,-134.5662 256.6458,-134.4491 226,-121.9533 214.9268,-117.4382 203.2364,-112.6606 191.7629,-107.9654\"/>\n",
       "<polygon fill=\"#000000\" stroke=\"#000000\" points=\"192.775,-104.5979 182.1944,-104.0484 190.123,-111.0761 192.775,-104.5979\"/>\n",
       "</g>\n",
       "<!-- nogochoices -->\n",
       "<g id=\"node5\" class=\"node\">\n",
       "<title>nogochoices</title>\n",
       "<ellipse fill=\"#d3d3d3\" stroke=\"#000000\" cx=\"356\" cy=\"-76.4767\" rx=\"118.1737\" ry=\"37.4533\"/>\n",
       "<text text-anchor=\"middle\" x=\"356\" y=\"-87.7767\" font-family=\"Times,serif\" font-size=\"14.00\" fill=\"#000000\">nogochoices</text>\n",
       "<text text-anchor=\"middle\" x=\"356\" y=\"-72.7767\" font-family=\"Times,serif\" font-size=\"14.00\" fill=\"#000000\">~</text>\n",
       "<text text-anchor=\"middle\" x=\"356\" y=\"-57.7767\" font-family=\"Times,serif\" font-size=\"14.00\" fill=\"#000000\">DDMCPNRandomVariable</text>\n",
       "</g>\n",
       "<!-- t&#45;&gt;nogochoices -->\n",
       "<g id=\"edge4\" class=\"edge\">\n",
       "<title>t&#45;&gt;nogochoices</title>\n",
       "<path fill=\"none\" stroke=\"#000000\" d=\"M353.3542,-149.8662C353.6507,-141.6423 353.9684,-132.8301 354.2771,-124.267\"/>\n",
       "<polygon fill=\"#000000\" stroke=\"#000000\" points=\"357.7845,-124.1213 354.6472,-114.0017 350.7891,-123.8691 357.7845,-124.1213\"/>\n",
       "</g>\n",
       "<!-- v -->\n",
       "<g id=\"node2\" class=\"node\">\n",
       "<title>v</title>\n",
       "<ellipse fill=\"none\" stroke=\"#000000\" cx=\"129\" cy=\"-187.43\" rx=\"43.6818\" ry=\"37.4533\"/>\n",
       "<text text-anchor=\"middle\" x=\"129\" y=\"-198.73\" font-family=\"Times,serif\" font-size=\"14.00\" fill=\"#000000\">v</text>\n",
       "<text text-anchor=\"middle\" x=\"129\" y=\"-183.73\" font-family=\"Times,serif\" font-size=\"14.00\" fill=\"#000000\">~</text>\n",
       "<text text-anchor=\"middle\" x=\"129\" y=\"-168.73\" font-family=\"Times,serif\" font-size=\"14.00\" fill=\"#000000\">Uniform</text>\n",
       "</g>\n",
       "<!-- v&#45;&gt;gochoices -->\n",
       "<g id=\"edge2\" class=\"edge\">\n",
       "<title>v&#45;&gt;gochoices</title>\n",
       "<path fill=\"none\" stroke=\"#000000\" d=\"M124.2602,-149.8662C123.2111,-141.552 122.0862,-132.6363 120.9945,-123.9848\"/>\n",
       "<polygon fill=\"#000000\" stroke=\"#000000\" points=\"124.4593,-123.4849 119.7349,-114.0017 117.5144,-124.3612 124.4593,-123.4849\"/>\n",
       "</g>\n",
       "<!-- v&#45;&gt;nogochoices -->\n",
       "<g id=\"edge5\" class=\"edge\">\n",
       "<title>v&#45;&gt;nogochoices</title>\n",
       "<path fill=\"none\" stroke=\"#000000\" d=\"M164.0373,-164.3725C172.1082,-159.3921 180.7485,-154.3165 189,-149.9533 215.8016,-135.7812 245.9068,-121.9352 273.0986,-110.1526\"/>\n",
       "<polygon fill=\"#000000\" stroke=\"#000000\" points=\"274.7807,-113.2393 282.585,-106.0739 272.0156,-106.8085 274.7807,-113.2393\"/>\n",
       "</g>\n",
       "<!-- a -->\n",
       "<g id=\"node3\" class=\"node\">\n",
       "<title>a</title>\n",
       "<ellipse fill=\"none\" stroke=\"#000000\" cx=\"242\" cy=\"-187.43\" rx=\"43.6818\" ry=\"37.4533\"/>\n",
       "<text text-anchor=\"middle\" x=\"242\" y=\"-198.73\" font-family=\"Times,serif\" font-size=\"14.00\" fill=\"#000000\">a</text>\n",
       "<text text-anchor=\"middle\" x=\"242\" y=\"-183.73\" font-family=\"Times,serif\" font-size=\"14.00\" fill=\"#000000\">~</text>\n",
       "<text text-anchor=\"middle\" x=\"242\" y=\"-168.73\" font-family=\"Times,serif\" font-size=\"14.00\" fill=\"#000000\">Uniform</text>\n",
       "</g>\n",
       "<!-- a&#45;&gt;gochoices -->\n",
       "<g id=\"edge3\" class=\"edge\">\n",
       "<title>a&#45;&gt;gochoices</title>\n",
       "<path fill=\"none\" stroke=\"#000000\" d=\"M211.2568,-160.5713C196.6207,-147.7844 178.7873,-132.2043 162.4661,-117.9454\"/>\n",
       "<polygon fill=\"#000000\" stroke=\"#000000\" points=\"164.4296,-115.0132 154.596,-111.0696 159.8241,-120.2847 164.4296,-115.0132\"/>\n",
       "</g>\n",
       "<!-- a&#45;&gt;nogochoices -->\n",
       "<g id=\"edge6\" class=\"edge\">\n",
       "<title>a&#45;&gt;nogochoices</title>\n",
       "<path fill=\"none\" stroke=\"#000000\" d=\"M271.062,-159.1447C283.4185,-147.1184 298.1022,-132.8271 311.7565,-119.5378\"/>\n",
       "<polygon fill=\"#000000\" stroke=\"#000000\" points=\"314.4899,-121.7615 319.215,-112.2786 309.6076,-116.7451 314.4899,-121.7615\"/>\n",
       "</g>\n",
       "</g>\n",
       "</svg>\n"
      ],
      "text/plain": [
       "<graphviz.graphs.Digraph at 0x7fcc06604eb0>"
      ]
     },
     "execution_count": 22,
     "metadata": {},
     "output_type": "execute_result"
    }
   ],
   "source": [
    "pm.model_to_graphviz(ddm_blog)"
   ]
  },
  {
   "cell_type": "markdown",
   "id": "648d667b-a97d-45a1-ae41-f987c4d417bc",
   "metadata": {},
   "source": [
    "The graphical model nicely illustrates how we handle the Go choices and NoGo choice via separate likelihod objects, while our basic parameters feed into both of these. \n",
    "\n",
    "Note that we don't fit the $z$ parameter here, which is to avoid known issues with parameter identifiability in case it was included. \n",
    "\n",
    "We are now ready to sample..."
   ]
  },
  {
   "cell_type": "code",
   "execution_count": 28,
   "id": "ad077fe4-c137-413e-9366-36471186a501",
   "metadata": {
    "tags": []
   },
   "outputs": [
    {
     "name": "stdout",
     "output_type": "stream",
     "text": [
      "Compiling...\n",
      "Compilation time =  0:00:00.650971\n",
      "Sampling...\n"
     ]
    },
    {
     "name": "stderr",
     "output_type": "stream",
     "text": [
      "sample: 100%|███████████████████████████████████████████████████████████████████████████████████████████████| 2500/2500 [00:21<00:00, 115.15it/s]\n"
     ]
    },
    {
     "name": "stdout",
     "output_type": "stream",
     "text": [
      "Sampling time =  0:01:08.917743\n",
      "Transforming variables...\n",
      "Transformation time =  0:00:00.067023\n"
     ]
    }
   ],
   "source": [
    "from pymc.sampling import jax as pmj\n",
    "\n",
    "# Just to keep the blog-post pretty automatically\n",
    "import warnings \n",
    "warnings.filterwarnings('ignore')\n",
    "\n",
    "with ddm_blog:\n",
    "    ddm_blog_traces_numpyro = pmj.sample_numpyro_nuts(\n",
    "            chains=2, draws=2000, tune=500, chain_method=\"vectorized\"\n",
    "            )"
   ]
  },
  {
   "cell_type": "markdown",
   "id": "b378beb0-6722-448c-9e90-f45e2dfbebf1",
   "metadata": {},
   "source": [
    "Let us finally visualize the posteriors. Did all of this actually work out?\n",
    "\n",
    "**NOTE:**\n",
    "The posterior mass here may be somewhat off the mark when comparing to the ground truth parameters. While this hints at a calibration issue, it was conscious approach to trade-off on precision to avoid potentially very long runtimes for this tutorial. We can in general improve the performance of our neural network by training on much more synthetic data (which in real applications is advisable). This would however make running this notebook for illustration purposes cumbersome. "
   ]
  },
  {
   "cell_type": "code",
   "execution_count": 29,
   "id": "d5dbfa80-922e-40bd-9849-60cba56ca69b",
   "metadata": {
    "tags": []
   },
   "outputs": [
    {
     "data": {
      "text/plain": [
       "array([<AxesSubplot: title={'center': 'v'}>,\n",
       "       <AxesSubplot: title={'center': 'a'}>,\n",
       "       <AxesSubplot: title={'center': 't'}>], dtype=object)"
      ]
     },
     "execution_count": 29,
     "metadata": {},
     "output_type": "execute_result"
    },
    {
     "data": {
      "image/png": "[encoded data removed]",
      "text/plain": [
       "<Figure size 2208x552 with 3 Axes>"
      ]
     },
     "metadata": {},
     "output_type": "display_data"
    }
   ],
   "source": [
    "import arviz as az\n",
    "az.plot_posterior(ddm_blog_traces_numpyro,\n",
    "                  kind = 'hist',\n",
    "                  **{'color': 'black', \n",
    "                     'histtype': 'step'},\n",
    "                  ref_val = {'v': [{'ref_val': parameters['v']}],\n",
    "                             'a': [{'ref_val': parameters['a']}],\n",
    "                             't': [{'ref_val': parameters['z']}]\n",
    "                            },\n",
    "                  ref_val_color = 'green')"
   ]
  },
  {
   "cell_type": "markdown",
   "id": "0274e3af-fb65-4c37-acfd-3c9a34ab5d26",
   "metadata": {},
   "source": [
    "A somewhat long but hopefully rewarding story comes to it's end. We hope you may also see some potential in this approach. Many extensions are possible, from the choice of neural network architectures to the structure of the PyMC model a plethora of options arise. If not, we hope that this may at least serve as another take on a tutorial concerning custom distributions in PyMC.\n",
    "\n",
    "For related tutorials check out:\n",
    "\n",
    "1. [Building blackbox likelihood functions](https://www.pymc.io/projects/examples/en/latest/case_studies/blackbox_external_likelihood_numpy.html)\n",
    "\n",
    "2. [Working with custom distributions](https://www.pymc.io/projects/examples/en/latest/howto/custom_distribution.html)\n",
    "\n",
    "3. [Wrapping jax functions into PyTensor Ops](https://www.pymc.io/projects/examples/en/latest/case_studies/wrapping_jax_function.html)\n",
    "\n",
    "4. [ODEs, Bayesian Neural Nets with Flax and PyMC](https://www.pymc-labs.io/blog-posts/jax-functions-in-pymc-3-quick-examples/)\n",
    "\n",
    "## End\n"
   ]
  },
  {
   "cell_type": "code",
   "execution_count": null,
   "id": "fe0b0fb2-b39a-46de-a785-3d8ff2d16608",
   "metadata": {},
   "outputs": [],
   "source": []
  }
 ],
 "metadata": {
  "kernelspec": {
   "display_name": "pymc_ak_lan",
   "language": "python",
   "name": "pymc_ak_lan"
  },
  "language_info": {
   "codemirror_mode": {
    "name": "ipython",
    "version": 3
   },
   "file_extension": ".py",
   "mimetype": "text/x-python",
   "name": "python",
   "nbconvert_exporter": "python",
   "pygments_lexer": "ipython3",
   "version": "3.9.16"
  }
 },
 "nbformat": 4,
 "nbformat_minor": 5
}
